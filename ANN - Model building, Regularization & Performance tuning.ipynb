{
 "cells": [
  {
   "cell_type": "markdown",
   "metadata": {},
   "source": [
    "# Importing Libraries & Dataset"
   ]
  },
  {
   "cell_type": "code",
   "execution_count": 1,
   "metadata": {},
   "outputs": [
    {
     "name": "stderr",
     "output_type": "stream",
     "text": [
      "Using TensorFlow backend.\n"
     ]
    }
   ],
   "source": [
    "import numpy as np\n",
    "import pandas as pd\n",
    "import matplotlib.pyplot as plt\n",
    "import keras\n",
    "import os"
   ]
  },
  {
   "cell_type": "code",
   "execution_count": 2,
   "metadata": {},
   "outputs": [],
   "source": [
    "os.chdir('C:\\\\Users\\\\breje\\\\OneDrive\\\\Desktop\\\\ML Dataset\\\\Deep Learning A-Z\\\\Deep_Learning_A_Z\\\\Volume 1 - Supervised Deep Learning\\\\Part 1 - Artificial Neural Networks (ANN)\\\\Artificial_Neural_Networks')"
   ]
  },
  {
   "cell_type": "code",
   "execution_count": 3,
   "metadata": {},
   "outputs": [],
   "source": [
    "df = pd.read_csv('Churn_Modelling.csv')"
   ]
  },
  {
   "cell_type": "code",
   "execution_count": 4,
   "metadata": {},
   "outputs": [
    {
     "name": "stdout",
     "output_type": "stream",
     "text": [
      "<class 'pandas.core.frame.DataFrame'>\n",
      "RangeIndex: 10000 entries, 0 to 9999\n",
      "Data columns (total 14 columns):\n",
      "RowNumber          10000 non-null int64\n",
      "CustomerId         10000 non-null int64\n",
      "Surname            10000 non-null object\n",
      "CreditScore        10000 non-null int64\n",
      "Geography          10000 non-null object\n",
      "Gender             10000 non-null object\n",
      "Age                10000 non-null int64\n",
      "Tenure             10000 non-null int64\n",
      "Balance            10000 non-null float64\n",
      "NumOfProducts      10000 non-null int64\n",
      "HasCrCard          10000 non-null int64\n",
      "IsActiveMember     10000 non-null int64\n",
      "EstimatedSalary    10000 non-null float64\n",
      "Exited             10000 non-null int64\n",
      "dtypes: float64(2), int64(9), object(3)\n",
      "memory usage: 1.1+ MB\n"
     ]
    }
   ],
   "source": [
    "df.info()"
   ]
  },
  {
   "cell_type": "code",
   "execution_count": 5,
   "metadata": {},
   "outputs": [
    {
     "data": {
      "text/html": [
       "<div>\n",
       "<style scoped>\n",
       "    .dataframe tbody tr th:only-of-type {\n",
       "        vertical-align: middle;\n",
       "    }\n",
       "\n",
       "    .dataframe tbody tr th {\n",
       "        vertical-align: top;\n",
       "    }\n",
       "\n",
       "    .dataframe thead th {\n",
       "        text-align: right;\n",
       "    }\n",
       "</style>\n",
       "<table border=\"1\" class=\"dataframe\">\n",
       "  <thead>\n",
       "    <tr style=\"text-align: right;\">\n",
       "      <th></th>\n",
       "      <th>RowNumber</th>\n",
       "      <th>CustomerId</th>\n",
       "      <th>CreditScore</th>\n",
       "      <th>Age</th>\n",
       "      <th>Tenure</th>\n",
       "      <th>Balance</th>\n",
       "      <th>NumOfProducts</th>\n",
       "      <th>HasCrCard</th>\n",
       "      <th>IsActiveMember</th>\n",
       "      <th>EstimatedSalary</th>\n",
       "      <th>Exited</th>\n",
       "    </tr>\n",
       "  </thead>\n",
       "  <tbody>\n",
       "    <tr>\n",
       "      <td>count</td>\n",
       "      <td>10000.00000</td>\n",
       "      <td>1.000000e+04</td>\n",
       "      <td>10000.000000</td>\n",
       "      <td>10000.000000</td>\n",
       "      <td>10000.000000</td>\n",
       "      <td>10000.000000</td>\n",
       "      <td>10000.000000</td>\n",
       "      <td>10000.00000</td>\n",
       "      <td>10000.000000</td>\n",
       "      <td>10000.000000</td>\n",
       "      <td>10000.000000</td>\n",
       "    </tr>\n",
       "    <tr>\n",
       "      <td>mean</td>\n",
       "      <td>5000.50000</td>\n",
       "      <td>1.569094e+07</td>\n",
       "      <td>650.528800</td>\n",
       "      <td>38.921800</td>\n",
       "      <td>5.012800</td>\n",
       "      <td>76485.889288</td>\n",
       "      <td>1.530200</td>\n",
       "      <td>0.70550</td>\n",
       "      <td>0.515100</td>\n",
       "      <td>100090.239881</td>\n",
       "      <td>0.203700</td>\n",
       "    </tr>\n",
       "    <tr>\n",
       "      <td>std</td>\n",
       "      <td>2886.89568</td>\n",
       "      <td>7.193619e+04</td>\n",
       "      <td>96.653299</td>\n",
       "      <td>10.487806</td>\n",
       "      <td>2.892174</td>\n",
       "      <td>62397.405202</td>\n",
       "      <td>0.581654</td>\n",
       "      <td>0.45584</td>\n",
       "      <td>0.499797</td>\n",
       "      <td>57510.492818</td>\n",
       "      <td>0.402769</td>\n",
       "    </tr>\n",
       "    <tr>\n",
       "      <td>min</td>\n",
       "      <td>1.00000</td>\n",
       "      <td>1.556570e+07</td>\n",
       "      <td>350.000000</td>\n",
       "      <td>18.000000</td>\n",
       "      <td>0.000000</td>\n",
       "      <td>0.000000</td>\n",
       "      <td>1.000000</td>\n",
       "      <td>0.00000</td>\n",
       "      <td>0.000000</td>\n",
       "      <td>11.580000</td>\n",
       "      <td>0.000000</td>\n",
       "    </tr>\n",
       "    <tr>\n",
       "      <td>25%</td>\n",
       "      <td>2500.75000</td>\n",
       "      <td>1.562853e+07</td>\n",
       "      <td>584.000000</td>\n",
       "      <td>32.000000</td>\n",
       "      <td>3.000000</td>\n",
       "      <td>0.000000</td>\n",
       "      <td>1.000000</td>\n",
       "      <td>0.00000</td>\n",
       "      <td>0.000000</td>\n",
       "      <td>51002.110000</td>\n",
       "      <td>0.000000</td>\n",
       "    </tr>\n",
       "    <tr>\n",
       "      <td>50%</td>\n",
       "      <td>5000.50000</td>\n",
       "      <td>1.569074e+07</td>\n",
       "      <td>652.000000</td>\n",
       "      <td>37.000000</td>\n",
       "      <td>5.000000</td>\n",
       "      <td>97198.540000</td>\n",
       "      <td>1.000000</td>\n",
       "      <td>1.00000</td>\n",
       "      <td>1.000000</td>\n",
       "      <td>100193.915000</td>\n",
       "      <td>0.000000</td>\n",
       "    </tr>\n",
       "    <tr>\n",
       "      <td>75%</td>\n",
       "      <td>7500.25000</td>\n",
       "      <td>1.575323e+07</td>\n",
       "      <td>718.000000</td>\n",
       "      <td>44.000000</td>\n",
       "      <td>7.000000</td>\n",
       "      <td>127644.240000</td>\n",
       "      <td>2.000000</td>\n",
       "      <td>1.00000</td>\n",
       "      <td>1.000000</td>\n",
       "      <td>149388.247500</td>\n",
       "      <td>0.000000</td>\n",
       "    </tr>\n",
       "    <tr>\n",
       "      <td>max</td>\n",
       "      <td>10000.00000</td>\n",
       "      <td>1.581569e+07</td>\n",
       "      <td>850.000000</td>\n",
       "      <td>92.000000</td>\n",
       "      <td>10.000000</td>\n",
       "      <td>250898.090000</td>\n",
       "      <td>4.000000</td>\n",
       "      <td>1.00000</td>\n",
       "      <td>1.000000</td>\n",
       "      <td>199992.480000</td>\n",
       "      <td>1.000000</td>\n",
       "    </tr>\n",
       "  </tbody>\n",
       "</table>\n",
       "</div>"
      ],
      "text/plain": [
       "         RowNumber    CustomerId   CreditScore           Age        Tenure  \\\n",
       "count  10000.00000  1.000000e+04  10000.000000  10000.000000  10000.000000   \n",
       "mean    5000.50000  1.569094e+07    650.528800     38.921800      5.012800   \n",
       "std     2886.89568  7.193619e+04     96.653299     10.487806      2.892174   \n",
       "min        1.00000  1.556570e+07    350.000000     18.000000      0.000000   \n",
       "25%     2500.75000  1.562853e+07    584.000000     32.000000      3.000000   \n",
       "50%     5000.50000  1.569074e+07    652.000000     37.000000      5.000000   \n",
       "75%     7500.25000  1.575323e+07    718.000000     44.000000      7.000000   \n",
       "max    10000.00000  1.581569e+07    850.000000     92.000000     10.000000   \n",
       "\n",
       "             Balance  NumOfProducts    HasCrCard  IsActiveMember  \\\n",
       "count   10000.000000   10000.000000  10000.00000    10000.000000   \n",
       "mean    76485.889288       1.530200      0.70550        0.515100   \n",
       "std     62397.405202       0.581654      0.45584        0.499797   \n",
       "min         0.000000       1.000000      0.00000        0.000000   \n",
       "25%         0.000000       1.000000      0.00000        0.000000   \n",
       "50%     97198.540000       1.000000      1.00000        1.000000   \n",
       "75%    127644.240000       2.000000      1.00000        1.000000   \n",
       "max    250898.090000       4.000000      1.00000        1.000000   \n",
       "\n",
       "       EstimatedSalary        Exited  \n",
       "count     10000.000000  10000.000000  \n",
       "mean     100090.239881      0.203700  \n",
       "std       57510.492818      0.402769  \n",
       "min          11.580000      0.000000  \n",
       "25%       51002.110000      0.000000  \n",
       "50%      100193.915000      0.000000  \n",
       "75%      149388.247500      0.000000  \n",
       "max      199992.480000      1.000000  "
      ]
     },
     "execution_count": 5,
     "metadata": {},
     "output_type": "execute_result"
    }
   ],
   "source": [
    "df.describe()"
   ]
  },
  {
   "cell_type": "code",
   "execution_count": 6,
   "metadata": {},
   "outputs": [
    {
     "data": {
      "text/html": [
       "<div>\n",
       "<style scoped>\n",
       "    .dataframe tbody tr th:only-of-type {\n",
       "        vertical-align: middle;\n",
       "    }\n",
       "\n",
       "    .dataframe tbody tr th {\n",
       "        vertical-align: top;\n",
       "    }\n",
       "\n",
       "    .dataframe thead th {\n",
       "        text-align: right;\n",
       "    }\n",
       "</style>\n",
       "<table border=\"1\" class=\"dataframe\">\n",
       "  <thead>\n",
       "    <tr style=\"text-align: right;\">\n",
       "      <th></th>\n",
       "      <th>RowNumber</th>\n",
       "      <th>CustomerId</th>\n",
       "      <th>Surname</th>\n",
       "      <th>CreditScore</th>\n",
       "      <th>Geography</th>\n",
       "      <th>Gender</th>\n",
       "      <th>Age</th>\n",
       "      <th>Tenure</th>\n",
       "      <th>Balance</th>\n",
       "      <th>NumOfProducts</th>\n",
       "      <th>HasCrCard</th>\n",
       "      <th>IsActiveMember</th>\n",
       "      <th>EstimatedSalary</th>\n",
       "      <th>Exited</th>\n",
       "    </tr>\n",
       "  </thead>\n",
       "  <tbody>\n",
       "    <tr>\n",
       "      <td>0</td>\n",
       "      <td>1</td>\n",
       "      <td>15634602</td>\n",
       "      <td>Hargrave</td>\n",
       "      <td>619</td>\n",
       "      <td>France</td>\n",
       "      <td>Female</td>\n",
       "      <td>42</td>\n",
       "      <td>2</td>\n",
       "      <td>0.00</td>\n",
       "      <td>1</td>\n",
       "      <td>1</td>\n",
       "      <td>1</td>\n",
       "      <td>101348.88</td>\n",
       "      <td>1</td>\n",
       "    </tr>\n",
       "    <tr>\n",
       "      <td>1</td>\n",
       "      <td>2</td>\n",
       "      <td>15647311</td>\n",
       "      <td>Hill</td>\n",
       "      <td>608</td>\n",
       "      <td>Spain</td>\n",
       "      <td>Female</td>\n",
       "      <td>41</td>\n",
       "      <td>1</td>\n",
       "      <td>83807.86</td>\n",
       "      <td>1</td>\n",
       "      <td>0</td>\n",
       "      <td>1</td>\n",
       "      <td>112542.58</td>\n",
       "      <td>0</td>\n",
       "    </tr>\n",
       "    <tr>\n",
       "      <td>2</td>\n",
       "      <td>3</td>\n",
       "      <td>15619304</td>\n",
       "      <td>Onio</td>\n",
       "      <td>502</td>\n",
       "      <td>France</td>\n",
       "      <td>Female</td>\n",
       "      <td>42</td>\n",
       "      <td>8</td>\n",
       "      <td>159660.80</td>\n",
       "      <td>3</td>\n",
       "      <td>1</td>\n",
       "      <td>0</td>\n",
       "      <td>113931.57</td>\n",
       "      <td>1</td>\n",
       "    </tr>\n",
       "    <tr>\n",
       "      <td>3</td>\n",
       "      <td>4</td>\n",
       "      <td>15701354</td>\n",
       "      <td>Boni</td>\n",
       "      <td>699</td>\n",
       "      <td>France</td>\n",
       "      <td>Female</td>\n",
       "      <td>39</td>\n",
       "      <td>1</td>\n",
       "      <td>0.00</td>\n",
       "      <td>2</td>\n",
       "      <td>0</td>\n",
       "      <td>0</td>\n",
       "      <td>93826.63</td>\n",
       "      <td>0</td>\n",
       "    </tr>\n",
       "    <tr>\n",
       "      <td>4</td>\n",
       "      <td>5</td>\n",
       "      <td>15737888</td>\n",
       "      <td>Mitchell</td>\n",
       "      <td>850</td>\n",
       "      <td>Spain</td>\n",
       "      <td>Female</td>\n",
       "      <td>43</td>\n",
       "      <td>2</td>\n",
       "      <td>125510.82</td>\n",
       "      <td>1</td>\n",
       "      <td>1</td>\n",
       "      <td>1</td>\n",
       "      <td>79084.10</td>\n",
       "      <td>0</td>\n",
       "    </tr>\n",
       "  </tbody>\n",
       "</table>\n",
       "</div>"
      ],
      "text/plain": [
       "   RowNumber  CustomerId   Surname  CreditScore Geography  Gender  Age  \\\n",
       "0          1    15634602  Hargrave          619    France  Female   42   \n",
       "1          2    15647311      Hill          608     Spain  Female   41   \n",
       "2          3    15619304      Onio          502    France  Female   42   \n",
       "3          4    15701354      Boni          699    France  Female   39   \n",
       "4          5    15737888  Mitchell          850     Spain  Female   43   \n",
       "\n",
       "   Tenure    Balance  NumOfProducts  HasCrCard  IsActiveMember  \\\n",
       "0       2       0.00              1          1               1   \n",
       "1       1   83807.86              1          0               1   \n",
       "2       8  159660.80              3          1               0   \n",
       "3       1       0.00              2          0               0   \n",
       "4       2  125510.82              1          1               1   \n",
       "\n",
       "   EstimatedSalary  Exited  \n",
       "0        101348.88       1  \n",
       "1        112542.58       0  \n",
       "2        113931.57       1  \n",
       "3         93826.63       0  \n",
       "4         79084.10       0  "
      ]
     },
     "execution_count": 6,
     "metadata": {},
     "output_type": "execute_result"
    }
   ],
   "source": [
    "df.head()"
   ]
  },
  {
   "cell_type": "markdown",
   "metadata": {},
   "source": [
    "# Data Preprocessing"
   ]
  },
  {
   "cell_type": "code",
   "execution_count": 7,
   "metadata": {},
   "outputs": [
    {
     "data": {
      "text/plain": [
       "Index(['RowNumber', 'CustomerId', 'Surname', 'CreditScore', 'Geography',\n",
       "       'Gender', 'Age', 'Tenure', 'Balance', 'NumOfProducts', 'HasCrCard',\n",
       "       'IsActiveMember', 'EstimatedSalary', 'Exited'],\n",
       "      dtype='object')"
      ]
     },
     "execution_count": 7,
     "metadata": {},
     "output_type": "execute_result"
    }
   ],
   "source": [
    "df.columns"
   ]
  },
  {
   "cell_type": "code",
   "execution_count": 8,
   "metadata": {},
   "outputs": [],
   "source": [
    "df = df[['CreditScore', 'Geography',\n",
    "       'Gender', 'Age', 'Tenure', 'Balance', 'NumOfProducts', 'HasCrCard',\n",
    "       'IsActiveMember', 'EstimatedSalary', 'Exited']]"
   ]
  },
  {
   "cell_type": "code",
   "execution_count": 9,
   "metadata": {},
   "outputs": [
    {
     "data": {
      "text/html": [
       "<div>\n",
       "<style scoped>\n",
       "    .dataframe tbody tr th:only-of-type {\n",
       "        vertical-align: middle;\n",
       "    }\n",
       "\n",
       "    .dataframe tbody tr th {\n",
       "        vertical-align: top;\n",
       "    }\n",
       "\n",
       "    .dataframe thead th {\n",
       "        text-align: right;\n",
       "    }\n",
       "</style>\n",
       "<table border=\"1\" class=\"dataframe\">\n",
       "  <thead>\n",
       "    <tr style=\"text-align: right;\">\n",
       "      <th></th>\n",
       "      <th>CreditScore</th>\n",
       "      <th>Geography</th>\n",
       "      <th>Gender</th>\n",
       "      <th>Age</th>\n",
       "      <th>Tenure</th>\n",
       "      <th>Balance</th>\n",
       "      <th>NumOfProducts</th>\n",
       "      <th>HasCrCard</th>\n",
       "      <th>IsActiveMember</th>\n",
       "      <th>EstimatedSalary</th>\n",
       "      <th>Exited</th>\n",
       "    </tr>\n",
       "  </thead>\n",
       "  <tbody>\n",
       "    <tr>\n",
       "      <td>0</td>\n",
       "      <td>619</td>\n",
       "      <td>France</td>\n",
       "      <td>Female</td>\n",
       "      <td>42</td>\n",
       "      <td>2</td>\n",
       "      <td>0.00</td>\n",
       "      <td>1</td>\n",
       "      <td>1</td>\n",
       "      <td>1</td>\n",
       "      <td>101348.88</td>\n",
       "      <td>1</td>\n",
       "    </tr>\n",
       "    <tr>\n",
       "      <td>1</td>\n",
       "      <td>608</td>\n",
       "      <td>Spain</td>\n",
       "      <td>Female</td>\n",
       "      <td>41</td>\n",
       "      <td>1</td>\n",
       "      <td>83807.86</td>\n",
       "      <td>1</td>\n",
       "      <td>0</td>\n",
       "      <td>1</td>\n",
       "      <td>112542.58</td>\n",
       "      <td>0</td>\n",
       "    </tr>\n",
       "    <tr>\n",
       "      <td>2</td>\n",
       "      <td>502</td>\n",
       "      <td>France</td>\n",
       "      <td>Female</td>\n",
       "      <td>42</td>\n",
       "      <td>8</td>\n",
       "      <td>159660.80</td>\n",
       "      <td>3</td>\n",
       "      <td>1</td>\n",
       "      <td>0</td>\n",
       "      <td>113931.57</td>\n",
       "      <td>1</td>\n",
       "    </tr>\n",
       "    <tr>\n",
       "      <td>3</td>\n",
       "      <td>699</td>\n",
       "      <td>France</td>\n",
       "      <td>Female</td>\n",
       "      <td>39</td>\n",
       "      <td>1</td>\n",
       "      <td>0.00</td>\n",
       "      <td>2</td>\n",
       "      <td>0</td>\n",
       "      <td>0</td>\n",
       "      <td>93826.63</td>\n",
       "      <td>0</td>\n",
       "    </tr>\n",
       "    <tr>\n",
       "      <td>4</td>\n",
       "      <td>850</td>\n",
       "      <td>Spain</td>\n",
       "      <td>Female</td>\n",
       "      <td>43</td>\n",
       "      <td>2</td>\n",
       "      <td>125510.82</td>\n",
       "      <td>1</td>\n",
       "      <td>1</td>\n",
       "      <td>1</td>\n",
       "      <td>79084.10</td>\n",
       "      <td>0</td>\n",
       "    </tr>\n",
       "  </tbody>\n",
       "</table>\n",
       "</div>"
      ],
      "text/plain": [
       "   CreditScore Geography  Gender  Age  Tenure    Balance  NumOfProducts  \\\n",
       "0          619    France  Female   42       2       0.00              1   \n",
       "1          608     Spain  Female   41       1   83807.86              1   \n",
       "2          502    France  Female   42       8  159660.80              3   \n",
       "3          699    France  Female   39       1       0.00              2   \n",
       "4          850     Spain  Female   43       2  125510.82              1   \n",
       "\n",
       "   HasCrCard  IsActiveMember  EstimatedSalary  Exited  \n",
       "0          1               1        101348.88       1  \n",
       "1          0               1        112542.58       0  \n",
       "2          1               0        113931.57       1  \n",
       "3          0               0         93826.63       0  \n",
       "4          1               1         79084.10       0  "
      ]
     },
     "execution_count": 9,
     "metadata": {},
     "output_type": "execute_result"
    }
   ],
   "source": [
    "df.head()"
   ]
  },
  {
   "cell_type": "code",
   "execution_count": 10,
   "metadata": {},
   "outputs": [],
   "source": [
    "X_geography = pd.DataFrame(pd.get_dummies(df['Geography'], drop_first=True))"
   ]
  },
  {
   "cell_type": "code",
   "execution_count": 11,
   "metadata": {},
   "outputs": [],
   "source": [
    "X_gender = pd.DataFrame(pd.get_dummies(df['Gender'], drop_first=True))"
   ]
  },
  {
   "cell_type": "code",
   "execution_count": 12,
   "metadata": {},
   "outputs": [],
   "source": [
    "y = pd.DataFrame(df['Exited'])"
   ]
  },
  {
   "cell_type": "code",
   "execution_count": 13,
   "metadata": {},
   "outputs": [
    {
     "data": {
      "text/html": [
       "<div>\n",
       "<style scoped>\n",
       "    .dataframe tbody tr th:only-of-type {\n",
       "        vertical-align: middle;\n",
       "    }\n",
       "\n",
       "    .dataframe tbody tr th {\n",
       "        vertical-align: top;\n",
       "    }\n",
       "\n",
       "    .dataframe thead th {\n",
       "        text-align: right;\n",
       "    }\n",
       "</style>\n",
       "<table border=\"1\" class=\"dataframe\">\n",
       "  <thead>\n",
       "    <tr style=\"text-align: right;\">\n",
       "      <th></th>\n",
       "      <th>Exited</th>\n",
       "    </tr>\n",
       "  </thead>\n",
       "  <tbody>\n",
       "    <tr>\n",
       "      <td>0</td>\n",
       "      <td>1</td>\n",
       "    </tr>\n",
       "    <tr>\n",
       "      <td>1</td>\n",
       "      <td>0</td>\n",
       "    </tr>\n",
       "    <tr>\n",
       "      <td>2</td>\n",
       "      <td>1</td>\n",
       "    </tr>\n",
       "    <tr>\n",
       "      <td>3</td>\n",
       "      <td>0</td>\n",
       "    </tr>\n",
       "    <tr>\n",
       "      <td>4</td>\n",
       "      <td>0</td>\n",
       "    </tr>\n",
       "  </tbody>\n",
       "</table>\n",
       "</div>"
      ],
      "text/plain": [
       "   Exited\n",
       "0       1\n",
       "1       0\n",
       "2       1\n",
       "3       0\n",
       "4       0"
      ]
     },
     "execution_count": 13,
     "metadata": {},
     "output_type": "execute_result"
    }
   ],
   "source": [
    "y.head()"
   ]
  },
  {
   "cell_type": "code",
   "execution_count": 14,
   "metadata": {},
   "outputs": [
    {
     "data": {
      "text/plain": [
       "(10000, 1)"
      ]
     },
     "execution_count": 14,
     "metadata": {},
     "output_type": "execute_result"
    }
   ],
   "source": [
    "y.shape"
   ]
  },
  {
   "cell_type": "code",
   "execution_count": 15,
   "metadata": {},
   "outputs": [],
   "source": [
    "X = df.drop(['Geography', 'Gender', 'Exited'], axis=1)"
   ]
  },
  {
   "cell_type": "code",
   "execution_count": 16,
   "metadata": {},
   "outputs": [
    {
     "data": {
      "text/html": [
       "<div>\n",
       "<style scoped>\n",
       "    .dataframe tbody tr th:only-of-type {\n",
       "        vertical-align: middle;\n",
       "    }\n",
       "\n",
       "    .dataframe tbody tr th {\n",
       "        vertical-align: top;\n",
       "    }\n",
       "\n",
       "    .dataframe thead th {\n",
       "        text-align: right;\n",
       "    }\n",
       "</style>\n",
       "<table border=\"1\" class=\"dataframe\">\n",
       "  <thead>\n",
       "    <tr style=\"text-align: right;\">\n",
       "      <th></th>\n",
       "      <th>CreditScore</th>\n",
       "      <th>Age</th>\n",
       "      <th>Tenure</th>\n",
       "      <th>Balance</th>\n",
       "      <th>NumOfProducts</th>\n",
       "      <th>HasCrCard</th>\n",
       "      <th>IsActiveMember</th>\n",
       "      <th>EstimatedSalary</th>\n",
       "    </tr>\n",
       "  </thead>\n",
       "  <tbody>\n",
       "    <tr>\n",
       "      <td>0</td>\n",
       "      <td>619</td>\n",
       "      <td>42</td>\n",
       "      <td>2</td>\n",
       "      <td>0.00</td>\n",
       "      <td>1</td>\n",
       "      <td>1</td>\n",
       "      <td>1</td>\n",
       "      <td>101348.88</td>\n",
       "    </tr>\n",
       "    <tr>\n",
       "      <td>1</td>\n",
       "      <td>608</td>\n",
       "      <td>41</td>\n",
       "      <td>1</td>\n",
       "      <td>83807.86</td>\n",
       "      <td>1</td>\n",
       "      <td>0</td>\n",
       "      <td>1</td>\n",
       "      <td>112542.58</td>\n",
       "    </tr>\n",
       "    <tr>\n",
       "      <td>2</td>\n",
       "      <td>502</td>\n",
       "      <td>42</td>\n",
       "      <td>8</td>\n",
       "      <td>159660.80</td>\n",
       "      <td>3</td>\n",
       "      <td>1</td>\n",
       "      <td>0</td>\n",
       "      <td>113931.57</td>\n",
       "    </tr>\n",
       "    <tr>\n",
       "      <td>3</td>\n",
       "      <td>699</td>\n",
       "      <td>39</td>\n",
       "      <td>1</td>\n",
       "      <td>0.00</td>\n",
       "      <td>2</td>\n",
       "      <td>0</td>\n",
       "      <td>0</td>\n",
       "      <td>93826.63</td>\n",
       "    </tr>\n",
       "    <tr>\n",
       "      <td>4</td>\n",
       "      <td>850</td>\n",
       "      <td>43</td>\n",
       "      <td>2</td>\n",
       "      <td>125510.82</td>\n",
       "      <td>1</td>\n",
       "      <td>1</td>\n",
       "      <td>1</td>\n",
       "      <td>79084.10</td>\n",
       "    </tr>\n",
       "  </tbody>\n",
       "</table>\n",
       "</div>"
      ],
      "text/plain": [
       "   CreditScore  Age  Tenure    Balance  NumOfProducts  HasCrCard  \\\n",
       "0          619   42       2       0.00              1          1   \n",
       "1          608   41       1   83807.86              1          0   \n",
       "2          502   42       8  159660.80              3          1   \n",
       "3          699   39       1       0.00              2          0   \n",
       "4          850   43       2  125510.82              1          1   \n",
       "\n",
       "   IsActiveMember  EstimatedSalary  \n",
       "0               1        101348.88  \n",
       "1               1        112542.58  \n",
       "2               0        113931.57  \n",
       "3               0         93826.63  \n",
       "4               1         79084.10  "
      ]
     },
     "execution_count": 16,
     "metadata": {},
     "output_type": "execute_result"
    }
   ],
   "source": [
    "X.head()"
   ]
  },
  {
   "cell_type": "code",
   "execution_count": 17,
   "metadata": {},
   "outputs": [
    {
     "data": {
      "text/plain": [
       "(10000, 8)"
      ]
     },
     "execution_count": 17,
     "metadata": {},
     "output_type": "execute_result"
    }
   ],
   "source": [
    "X.shape"
   ]
  },
  {
   "cell_type": "code",
   "execution_count": 18,
   "metadata": {},
   "outputs": [],
   "source": [
    "X = pd.concat([X,X_geography,X_gender], axis=1, ignore_index=True, sort=False)"
   ]
  },
  {
   "cell_type": "code",
   "execution_count": 19,
   "metadata": {},
   "outputs": [
    {
     "data": {
      "text/html": [
       "<div>\n",
       "<style scoped>\n",
       "    .dataframe tbody tr th:only-of-type {\n",
       "        vertical-align: middle;\n",
       "    }\n",
       "\n",
       "    .dataframe tbody tr th {\n",
       "        vertical-align: top;\n",
       "    }\n",
       "\n",
       "    .dataframe thead th {\n",
       "        text-align: right;\n",
       "    }\n",
       "</style>\n",
       "<table border=\"1\" class=\"dataframe\">\n",
       "  <thead>\n",
       "    <tr style=\"text-align: right;\">\n",
       "      <th></th>\n",
       "      <th>0</th>\n",
       "      <th>1</th>\n",
       "      <th>2</th>\n",
       "      <th>3</th>\n",
       "      <th>4</th>\n",
       "      <th>5</th>\n",
       "      <th>6</th>\n",
       "      <th>7</th>\n",
       "      <th>8</th>\n",
       "      <th>9</th>\n",
       "      <th>10</th>\n",
       "    </tr>\n",
       "  </thead>\n",
       "  <tbody>\n",
       "    <tr>\n",
       "      <td>0</td>\n",
       "      <td>619</td>\n",
       "      <td>42</td>\n",
       "      <td>2</td>\n",
       "      <td>0.00</td>\n",
       "      <td>1</td>\n",
       "      <td>1</td>\n",
       "      <td>1</td>\n",
       "      <td>101348.88</td>\n",
       "      <td>0</td>\n",
       "      <td>0</td>\n",
       "      <td>0</td>\n",
       "    </tr>\n",
       "    <tr>\n",
       "      <td>1</td>\n",
       "      <td>608</td>\n",
       "      <td>41</td>\n",
       "      <td>1</td>\n",
       "      <td>83807.86</td>\n",
       "      <td>1</td>\n",
       "      <td>0</td>\n",
       "      <td>1</td>\n",
       "      <td>112542.58</td>\n",
       "      <td>0</td>\n",
       "      <td>1</td>\n",
       "      <td>0</td>\n",
       "    </tr>\n",
       "    <tr>\n",
       "      <td>2</td>\n",
       "      <td>502</td>\n",
       "      <td>42</td>\n",
       "      <td>8</td>\n",
       "      <td>159660.80</td>\n",
       "      <td>3</td>\n",
       "      <td>1</td>\n",
       "      <td>0</td>\n",
       "      <td>113931.57</td>\n",
       "      <td>0</td>\n",
       "      <td>0</td>\n",
       "      <td>0</td>\n",
       "    </tr>\n",
       "    <tr>\n",
       "      <td>3</td>\n",
       "      <td>699</td>\n",
       "      <td>39</td>\n",
       "      <td>1</td>\n",
       "      <td>0.00</td>\n",
       "      <td>2</td>\n",
       "      <td>0</td>\n",
       "      <td>0</td>\n",
       "      <td>93826.63</td>\n",
       "      <td>0</td>\n",
       "      <td>0</td>\n",
       "      <td>0</td>\n",
       "    </tr>\n",
       "    <tr>\n",
       "      <td>4</td>\n",
       "      <td>850</td>\n",
       "      <td>43</td>\n",
       "      <td>2</td>\n",
       "      <td>125510.82</td>\n",
       "      <td>1</td>\n",
       "      <td>1</td>\n",
       "      <td>1</td>\n",
       "      <td>79084.10</td>\n",
       "      <td>0</td>\n",
       "      <td>1</td>\n",
       "      <td>0</td>\n",
       "    </tr>\n",
       "  </tbody>\n",
       "</table>\n",
       "</div>"
      ],
      "text/plain": [
       "     0   1  2          3  4  5  6          7  8  9  10\n",
       "0  619  42  2       0.00  1  1  1  101348.88  0  0   0\n",
       "1  608  41  1   83807.86  1  0  1  112542.58  0  1   0\n",
       "2  502  42  8  159660.80  3  1  0  113931.57  0  0   0\n",
       "3  699  39  1       0.00  2  0  0   93826.63  0  0   0\n",
       "4  850  43  2  125510.82  1  1  1   79084.10  0  1   0"
      ]
     },
     "execution_count": 19,
     "metadata": {},
     "output_type": "execute_result"
    }
   ],
   "source": [
    "X.head()"
   ]
  },
  {
   "cell_type": "code",
   "execution_count": 20,
   "metadata": {},
   "outputs": [
    {
     "data": {
      "text/plain": [
       "(10000, 11)"
      ]
     },
     "execution_count": 20,
     "metadata": {},
     "output_type": "execute_result"
    }
   ],
   "source": [
    "X.shape"
   ]
  },
  {
   "cell_type": "code",
   "execution_count": 21,
   "metadata": {},
   "outputs": [],
   "source": [
    "from sklearn.model_selection import train_test_split"
   ]
  },
  {
   "cell_type": "code",
   "execution_count": 22,
   "metadata": {},
   "outputs": [],
   "source": [
    "X_train, X_test, y_train, y_test = train_test_split(X, y, test_size=0.1, random_state=0, stratify=y)"
   ]
  },
  {
   "cell_type": "code",
   "execution_count": 23,
   "metadata": {},
   "outputs": [],
   "source": [
    "from sklearn.preprocessing import StandardScaler"
   ]
  },
  {
   "cell_type": "code",
   "execution_count": 24,
   "metadata": {},
   "outputs": [],
   "source": [
    "scale = StandardScaler()"
   ]
  },
  {
   "cell_type": "code",
   "execution_count": 25,
   "metadata": {},
   "outputs": [],
   "source": [
    "X_train = scale.fit_transform(X_train)"
   ]
  },
  {
   "cell_type": "code",
   "execution_count": 26,
   "metadata": {},
   "outputs": [],
   "source": [
    "X_test = scale.transform(X_test)"
   ]
  },
  {
   "cell_type": "code",
   "execution_count": 27,
   "metadata": {},
   "outputs": [
    {
     "name": "stdout",
     "output_type": "stream",
     "text": [
      "(9000, 11) (1000, 11)\n"
     ]
    }
   ],
   "source": [
    "print(X_train.shape, X_test.shape)"
   ]
  },
  {
   "cell_type": "markdown",
   "metadata": {},
   "source": [
    "# Building an ANN"
   ]
  },
  {
   "cell_type": "code",
   "execution_count": 28,
   "metadata": {},
   "outputs": [],
   "source": [
    "from keras.models import Sequential\n",
    "from keras.layers import Dense\n",
    "from keras.layers import Dropout"
   ]
  },
  {
   "cell_type": "code",
   "execution_count": 29,
   "metadata": {},
   "outputs": [],
   "source": [
    "model  = Sequential()"
   ]
  },
  {
   "cell_type": "code",
   "execution_count": 30,
   "metadata": {},
   "outputs": [],
   "source": [
    "model.add(Dense(input_dim=11, kernel_initializer='uniform', units=6, activation='relu'))\n",
    "model.add(Dense(kernel_initializer='uniform', units=6, activation='relu'))\n",
    "model.add(Dense(kernel_initializer='uniform', units=1, activation='sigmoid'))\n",
    "model.compile(optimizer='adam', loss='binary_crossentropy', metrics=['accuracy'])"
   ]
  },
  {
   "cell_type": "code",
   "execution_count": 31,
   "metadata": {},
   "outputs": [
    {
     "name": "stdout",
     "output_type": "stream",
     "text": [
      "Epoch 1/50\n",
      "9000/9000 [==============================] - 5s 584us/step - loss: 0.4733 - accuracy: 0.7962\n",
      "Epoch 2/50\n",
      "9000/9000 [==============================] - 4s 437us/step - loss: 0.4286 - accuracy: 0.7963\n",
      "Epoch 3/50\n",
      "9000/9000 [==============================] - 4s 432us/step - loss: 0.4252 - accuracy: 0.7963\n",
      "Epoch 4/50\n",
      "9000/9000 [==============================] - 4s 431us/step - loss: 0.4210 - accuracy: 0.8109\n",
      "Epoch 5/50\n",
      "9000/9000 [==============================] - 5s 537us/step - loss: 0.4166 - accuracy: 0.8231\n",
      "Epoch 6/50\n",
      "9000/9000 [==============================] - 4s 459us/step - loss: 0.4138 - accuracy: 0.8276\n",
      "Epoch 7/50\n",
      "9000/9000 [==============================] - 5s 563us/step - loss: 0.4119 - accuracy: 0.8302\n",
      "Epoch 8/50\n",
      "9000/9000 [==============================] - 5s 534us/step - loss: 0.4106 - accuracy: 0.8327\n",
      "Epoch 9/50\n",
      "9000/9000 [==============================] - 4s 500us/step - loss: 0.4094 - accuracy: 0.8327\n",
      "Epoch 10/50\n",
      "9000/9000 [==============================] - 4s 465us/step - loss: 0.4084 - accuracy: 0.8343\n",
      "Epoch 11/50\n",
      "9000/9000 [==============================] - 4s 462us/step - loss: 0.4072 - accuracy: 0.8334\n",
      "Epoch 12/50\n",
      "9000/9000 [==============================] - 4s 464us/step - loss: 0.4067 - accuracy: 0.8354\n",
      "Epoch 13/50\n",
      "9000/9000 [==============================] - 4s 461us/step - loss: 0.4058 - accuracy: 0.8352\n",
      "Epoch 14/50\n",
      "9000/9000 [==============================] - 4s 466us/step - loss: 0.4054 - accuracy: 0.8366\n",
      "Epoch 15/50\n",
      "9000/9000 [==============================] - 5s 549us/step - loss: 0.4044 - accuracy: 0.8358\n",
      "Epoch 16/50\n",
      "9000/9000 [==============================] - 4s 463us/step - loss: 0.4044 - accuracy: 0.8369\n",
      "Epoch 17/50\n",
      "9000/9000 [==============================] - 4s 461us/step - loss: 0.4035 - accuracy: 0.8358\n",
      "Epoch 18/50\n",
      "9000/9000 [==============================] - 4s 470us/step - loss: 0.4033 - accuracy: 0.8366\n",
      "Epoch 19/50\n",
      "9000/9000 [==============================] - 4s 468us/step - loss: 0.4032 - accuracy: 0.8358\n",
      "Epoch 20/50\n",
      "9000/9000 [==============================] - 4s 477us/step - loss: 0.4022 - accuracy: 0.8361\n",
      "Epoch 21/50\n",
      "9000/9000 [==============================] - 4s 465us/step - loss: 0.4022 - accuracy: 0.8368\n",
      "Epoch 22/50\n",
      "9000/9000 [==============================] - 4s 478us/step - loss: 0.4016 - accuracy: 0.8384\n",
      "Epoch 23/50\n",
      "9000/9000 [==============================] - 4s 467us/step - loss: 0.4017 - accuracy: 0.8367\n",
      "Epoch 24/50\n",
      "9000/9000 [==============================] - 4s 466us/step - loss: 0.4009 - accuracy: 0.8367\n",
      "Epoch 25/50\n",
      "9000/9000 [==============================] - 4s 469us/step - loss: 0.4006 - accuracy: 0.8377\n",
      "Epoch 26/50\n",
      "9000/9000 [==============================] - 4s 467us/step - loss: 0.4007 - accuracy: 0.8353\n",
      "Epoch 27/50\n",
      "9000/9000 [==============================] - 4s 470us/step - loss: 0.4005 - accuracy: 0.8377\n",
      "Epoch 28/50\n",
      "9000/9000 [==============================] - 4s 469us/step - loss: 0.4001 - accuracy: 0.8371\n",
      "Epoch 29/50\n",
      "9000/9000 [==============================] - 4s 470us/step - loss: 0.4005 - accuracy: 0.8364\n",
      "Epoch 30/50\n",
      "9000/9000 [==============================] - 4s 468us/step - loss: 0.4001 - accuracy: 0.8373\n",
      "Epoch 31/50\n",
      "9000/9000 [==============================] - 4s 467us/step - loss: 0.3997 - accuracy: 0.8366\n",
      "Epoch 32/50\n",
      "9000/9000 [==============================] - 4s 467us/step - loss: 0.3999 - accuracy: 0.8371\n",
      "Epoch 33/50\n",
      "9000/9000 [==============================] - 4s 469us/step - loss: 0.3995 - accuracy: 0.8370\n",
      "Epoch 34/50\n",
      "9000/9000 [==============================] - 4s 467us/step - loss: 0.3994 - accuracy: 0.8356\n",
      "Epoch 35/50\n",
      "9000/9000 [==============================] - 4s 469us/step - loss: 0.3995 - accuracy: 0.8372\n",
      "Epoch 36/50\n",
      "9000/9000 [==============================] - 4s 483us/step - loss: 0.3992 - accuracy: 0.8371\n",
      "Epoch 37/50\n",
      "9000/9000 [==============================] - 5s 506us/step - loss: 0.3985 - accuracy: 0.8377\n",
      "Epoch 38/50\n",
      "9000/9000 [==============================] - 4s 496us/step - loss: 0.3988 - accuracy: 0.8367\n",
      "Epoch 39/50\n",
      "9000/9000 [==============================] - 4s 490us/step - loss: 0.3987 - accuracy: 0.8356\n",
      "Epoch 40/50\n",
      "9000/9000 [==============================] - 4s 487us/step - loss: 0.3984 - accuracy: 0.8358\n",
      "Epoch 41/50\n",
      "9000/9000 [==============================] - 5s 509us/step - loss: 0.3985 - accuracy: 0.8370\n",
      "Epoch 42/50\n",
      "9000/9000 [==============================] - 4s 494us/step - loss: 0.3984 - accuracy: 0.8368\n",
      "Epoch 43/50\n",
      "9000/9000 [==============================] - 4s 494us/step - loss: 0.3982 - accuracy: 0.8368\n",
      "Epoch 44/50\n",
      "9000/9000 [==============================] - 5s 506us/step - loss: 0.3984 - accuracy: 0.8371\n",
      "Epoch 45/50\n",
      "9000/9000 [==============================] - 5s 546us/step - loss: 0.3983 - accuracy: 0.8373\n",
      "Epoch 46/50\n",
      "9000/9000 [==============================] - 5s 508us/step - loss: 0.3982 - accuracy: 0.8358\n",
      "Epoch 47/50\n",
      "9000/9000 [==============================] - 5s 501us/step - loss: 0.3980 - accuracy: 0.8381\n",
      "Epoch 48/50\n",
      "9000/9000 [==============================] - 5s 507us/step - loss: 0.3981 - accuracy: 0.8371\n",
      "Epoch 49/50\n",
      "9000/9000 [==============================] - 5s 503us/step - loss: 0.3983 - accuracy: 0.8383\n",
      "Epoch 50/50\n",
      "9000/9000 [==============================] - 4s 492us/step - loss: 0.3978 - accuracy: 0.8369\n"
     ]
    },
    {
     "data": {
      "text/plain": [
       "<keras.callbacks.callbacks.History at 0x27e6226a388>"
      ]
     },
     "execution_count": 31,
     "metadata": {},
     "output_type": "execute_result"
    }
   ],
   "source": [
    "model.fit(X_train, y_train, batch_size=10, epochs=50)"
   ]
  },
  {
   "cell_type": "markdown",
   "metadata": {},
   "source": [
    "# Evaluating the model"
   ]
  },
  {
   "cell_type": "code",
   "execution_count": 32,
   "metadata": {},
   "outputs": [],
   "source": [
    "y_pred = model.predict(X_test)"
   ]
  },
  {
   "cell_type": "code",
   "execution_count": 33,
   "metadata": {},
   "outputs": [],
   "source": [
    "y_pred = y_pred >0.50"
   ]
  },
  {
   "cell_type": "code",
   "execution_count": 34,
   "metadata": {},
   "outputs": [],
   "source": [
    "from sklearn.metrics import confusion_matrix, f1_score, accuracy_score"
   ]
  },
  {
   "cell_type": "code",
   "execution_count": 35,
   "metadata": {},
   "outputs": [
    {
     "data": {
      "text/plain": [
       "array([[775,  21],\n",
       "       [147,  57]], dtype=int64)"
      ]
     },
     "execution_count": 35,
     "metadata": {},
     "output_type": "execute_result"
    }
   ],
   "source": [
    "confusion_matrix(y_test, y_pred)"
   ]
  },
  {
   "cell_type": "code",
   "execution_count": 36,
   "metadata": {},
   "outputs": [
    {
     "data": {
      "text/plain": [
       "0.4042553191489362"
      ]
     },
     "execution_count": 36,
     "metadata": {},
     "output_type": "execute_result"
    }
   ],
   "source": [
    "f1_score(y_test, y_pred)"
   ]
  },
  {
   "cell_type": "code",
   "execution_count": 37,
   "metadata": {},
   "outputs": [
    {
     "data": {
      "text/plain": [
       "0.832"
      ]
     },
     "execution_count": 37,
     "metadata": {},
     "output_type": "execute_result"
    }
   ],
   "source": [
    "accuracy_score(y_test, y_pred)"
   ]
  },
  {
   "cell_type": "markdown",
   "metadata": {},
   "source": [
    "\\* 83% accuracy! Not bad eh? (false positive is too high though)Now let's implement regularization through CV & Droput; then improve the accuracy using Parameter tuning\\*"
   ]
  },
  {
   "cell_type": "markdown",
   "metadata": {},
   "source": [
    "# Cross Validation"
   ]
  },
  {
   "cell_type": "code",
   "execution_count": 38,
   "metadata": {},
   "outputs": [],
   "source": [
    "from keras.wrappers.scikit_learn import KerasClassifier"
   ]
  },
  {
   "cell_type": "code",
   "execution_count": 39,
   "metadata": {},
   "outputs": [],
   "source": [
    "from sklearn.model_selection import cross_val_score"
   ]
  },
  {
   "cell_type": "code",
   "execution_count": 40,
   "metadata": {},
   "outputs": [],
   "source": [
    "def classifier():\n",
    "    model  = Sequential()\n",
    "    model.add(Dense(input_dim=11, kernel_initializer='uniform', units=6, activation='relu'))\n",
    "    model.add(Dense(kernel_initializer='uniform', units=6, activation='relu'))\n",
    "    model.add(Dense(kernel_initializer='uniform', units=1, activation='sigmoid'))\n",
    "    model.compile(optimizer='adam', loss='binary_crossentropy', metrics=['accuracy'])\n",
    "    return model"
   ]
  },
  {
   "cell_type": "code",
   "execution_count": 41,
   "metadata": {},
   "outputs": [],
   "source": [
    "CV_model = KerasClassifier(build_fn=classifier, batch_size=10, epochs=50)"
   ]
  },
  {
   "cell_type": "code",
   "execution_count": 42,
   "metadata": {},
   "outputs": [],
   "source": [
    "cv_score = cross_val_score(estimator=CV_model, X=X_train, y=y_train, cv=10, n_jobs=-1)"
   ]
  },
  {
   "cell_type": "code",
   "execution_count": 43,
   "metadata": {},
   "outputs": [
    {
     "data": {
      "text/plain": [
       "0.8406666696071625"
      ]
     },
     "execution_count": 43,
     "metadata": {},
     "output_type": "execute_result"
    }
   ],
   "source": [
    "cv_score.mean()"
   ]
  },
  {
   "cell_type": "code",
   "execution_count": 44,
   "metadata": {},
   "outputs": [
    {
     "data": {
      "text/plain": [
       "0.012193903836001005"
      ]
     },
     "execution_count": 44,
     "metadata": {},
     "output_type": "execute_result"
    }
   ],
   "source": [
    "cv_score.std()"
   ]
  },
  {
   "cell_type": "markdown",
   "metadata": {},
   "source": [
    "# Dropout"
   ]
  },
  {
   "cell_type": "code",
   "execution_count": 45,
   "metadata": {},
   "outputs": [],
   "source": [
    "from keras.wrappers.scikit_learn import KerasClassifier\n",
    "from sklearn.model_selection import cross_val_score"
   ]
  },
  {
   "cell_type": "code",
   "execution_count": 46,
   "metadata": {},
   "outputs": [],
   "source": [
    "def classifier():\n",
    "    model  = Sequential()\n",
    "    model.add(Dense(input_dim=11, kernel_initializer='uniform', units=6, activation='relu'))\n",
    "    model.add(Dropout(p=0.1))\n",
    "    model.add(Dense(kernel_initializer='uniform', units=6, activation='relu'))\n",
    "    model.add(Dropout(p=0.1))\n",
    "    model.add(Dense(kernel_initializer='uniform', units=1, activation='sigmoid'))\n",
    "    model.compile(optimizer='adam', loss='binary_crossentropy', metrics=['accuracy'])\n",
    "    return model"
   ]
  },
  {
   "cell_type": "code",
   "execution_count": 47,
   "metadata": {},
   "outputs": [
    {
     "name": "stderr",
     "output_type": "stream",
     "text": [
      "C:\\Users\\breje\\AppData\\Local\\Continuum\\anaconda3\\lib\\site-packages\\joblib\\externals\\loky\\process_executor.py:706: UserWarning: A worker stopped while some jobs were given to the executor. This can be caused by a too short worker timeout or by a memory leak.\n",
      "  \"timeout or by a memory leak.\", UserWarning\n"
     ]
    }
   ],
   "source": [
    "CV_model = KerasClassifier(build_fn=classifier, batch_size=10, epochs=50)\n",
    "cv_score = cross_val_score(estimator=CV_model, X=X_train, y=y_train, cv=10, n_jobs=-1)"
   ]
  },
  {
   "cell_type": "code",
   "execution_count": 48,
   "metadata": {},
   "outputs": [
    {
     "data": {
      "text/plain": [
       "0.8376666665077209"
      ]
     },
     "execution_count": 48,
     "metadata": {},
     "output_type": "execute_result"
    }
   ],
   "source": [
    "cv_score.mean()"
   ]
  },
  {
   "cell_type": "code",
   "execution_count": 49,
   "metadata": {},
   "outputs": [
    {
     "data": {
      "text/plain": [
       "0.010959525774749282"
      ]
     },
     "execution_count": 49,
     "metadata": {},
     "output_type": "execute_result"
    }
   ],
   "source": [
    "cv_score.std()"
   ]
  },
  {
   "cell_type": "markdown",
   "metadata": {},
   "source": [
    "# Parameter Tuning"
   ]
  },
  {
   "cell_type": "code",
   "execution_count": 54,
   "metadata": {},
   "outputs": [],
   "source": [
    "from keras.wrappers.scikit_learn import KerasClassifier\n",
    "from sklearn.model_selection import GridSearchCV\n",
    "from keras.models import Sequential\n",
    "from keras.layers import Dense\n",
    "from keras.layers import Dropout"
   ]
  },
  {
   "cell_type": "code",
   "execution_count": 55,
   "metadata": {},
   "outputs": [],
   "source": [
    "def classifier(optimizer):\n",
    "    model  = Sequential()\n",
    "    model.add(Dense(input_dim=11, kernel_initializer='uniform', units=6, activation='relu'))\n",
    "    model.add(Dense(kernel_initializer='uniform', units=6, activation='relu'))\n",
    "    model.add(Dense(kernel_initializer='uniform', units=1, activation='sigmoid'))\n",
    "    model.compile(optimizer=optimizer, loss='binary_crossentropy', metrics=['accuracy'])\n",
    "    return model"
   ]
  },
  {
   "cell_type": "code",
   "execution_count": 56,
   "metadata": {},
   "outputs": [],
   "source": [
    "model = KerasClassifier(build_fn=classifier)\n",
    "parameters = {'batch_size':[5, 20],\n",
    "             'nb_epoch':[75, 100],\n",
    "             'optimizer':['adam', 'rmsprop']}\n",
    "gs_model = GridSearchCV(estimator=model, param_grid=parameters, scoring='accuracy', cv=10)"
   ]
  },
  {
   "cell_type": "code",
   "execution_count": 57,
   "metadata": {},
   "outputs": [
    {
     "name": "stdout",
     "output_type": "stream",
     "text": [
      "Epoch 1/1\n",
      "8100/8100 [==============================] - 8s 1ms/step - loss: 0.4564 - accuracy: 0.7968\n",
      "Epoch 1/1\n",
      "8100/8100 [==============================] - 9s 1ms/step - loss: 0.4560 - accuracy: 0.7969\n",
      "Epoch 1/1\n",
      "8100/8100 [==============================] - 9s 1ms/step - loss: 0.4527 - accuracy: 0.7948\n",
      "Epoch 1/1\n",
      "8100/8100 [==============================] - 8s 1ms/step - loss: 0.4663 - accuracy: 0.7962\n",
      "Epoch 1/1\n",
      "8100/8100 [==============================] - 9s 1ms/step - loss: 0.4599 - accuracy: 0.7970\n",
      "Epoch 1/1\n",
      "8100/8100 [==============================] - 9s 1ms/step - loss: 0.4561 - accuracy: 0.7988\n",
      "Epoch 1/1\n",
      "8100/8100 [==============================] - 9s 1ms/step - loss: 0.4601 - accuracy: 0.7959\n",
      "Epoch 1/1\n",
      "8100/8100 [==============================] - 9s 1ms/step - loss: 0.4608 - accuracy: 0.7948\n",
      "Epoch 1/1\n",
      "8100/8100 [==============================] - 9s 1ms/step - loss: 0.4600 - accuracy: 0.7963\n",
      "Epoch 1/1\n",
      "8100/8100 [==============================] - 9s 1ms/step - loss: 0.4617 - accuracy: 0.7940\n",
      "Epoch 1/1\n",
      "8100/8100 [==============================] - 8s 1ms/step - loss: 0.4669 - accuracy: 0.7965\n",
      "Epoch 1/1\n",
      "8100/8100 [==============================] - 8s 1ms/step - loss: 0.4812 - accuracy: 0.7960\n",
      "Epoch 1/1\n",
      "8100/8100 [==============================] - 8s 1ms/step - loss: 0.4731 - accuracy: 0.7948\n",
      "Epoch 1/1\n",
      "8100/8100 [==============================] - 8s 1ms/step - loss: 0.4670 - accuracy: 0.7962\n",
      "Epoch 1/1\n",
      "8100/8100 [==============================] - 8s 1ms/step - loss: 0.4643 - accuracy: 0.7972\n",
      "Epoch 1/1\n",
      "8100/8100 [==============================] - 8s 1ms/step - loss: 0.4730 - accuracy: 0.7989\n",
      "Epoch 1/1\n",
      "8100/8100 [==============================] - 8s 1ms/step - loss: 0.4728 - accuracy: 0.7956\n",
      "Epoch 1/1\n",
      "8100/8100 [==============================] - 8s 1ms/step - loss: 0.4638 - accuracy: 0.7953\n",
      "Epoch 1/1\n",
      "8100/8100 [==============================] - 8s 1ms/step - loss: 0.4811 - accuracy: 0.7967\n",
      "Epoch 1/1\n",
      "8100/8100 [==============================] - ETA: 0s - loss: 0.4716 - accuracy: 0.79 - 10s 1ms/step - loss: 0.4716 - accuracy: 0.7938\n",
      "Epoch 1/1\n",
      "8100/8100 [==============================] - 13s 2ms/step - loss: 0.4584 - accuracy: 0.7967\n",
      "Epoch 1/1\n",
      "8100/8100 [==============================] - 11s 1ms/step - loss: 0.4600 - accuracy: 0.7968\n",
      "Epoch 1/1\n",
      "8100/8100 [==============================] - 9s 1ms/step - loss: 0.4561 - accuracy: 0.7947\n",
      "Epoch 1/1\n",
      "8100/8100 [==============================] - 10s 1ms/step - loss: 0.4608 - accuracy: 0.7964\n",
      "Epoch 1/1\n",
      "8100/8100 [==============================] - 10s 1ms/step - loss: 0.4582 - accuracy: 0.7970\n",
      "Epoch 1/1\n",
      "8100/8100 [==============================] - 9s 1ms/step - loss: 0.4597 - accuracy: 0.7986\n",
      "Epoch 1/1\n",
      "8100/8100 [==============================] - 13s 2ms/step - loss: 0.4640 - accuracy: 0.7957\n",
      "Epoch 1/1\n",
      "8100/8100 [==============================] - 13s 2ms/step - loss: 0.4574 - accuracy: 0.7951\n",
      "Epoch 1/1\n",
      "8100/8100 [==============================] - 15s 2ms/step - loss: 0.4653 - accuracy: 0.8042\n",
      "Epoch 1/1\n",
      "8100/8100 [==============================] - 14s 2ms/step - loss: 0.4680 - accuracy: 0.7980\n",
      "Epoch 1/1\n",
      "8100/8100 [==============================] - 13s 2ms/step - loss: 0.4681 - accuracy: 0.7967\n",
      "Epoch 1/1\n",
      "8100/8100 [==============================] - 13s 2ms/step - loss: 0.4661 - accuracy: 0.7969\n",
      "Epoch 1/1\n",
      "8100/8100 [==============================] - 13s 2ms/step - loss: 0.4726 - accuracy: 0.7948\n",
      "Epoch 1/1\n",
      "8100/8100 [==============================] - 13s 2ms/step - loss: 0.4721 - accuracy: 0.7962\n",
      "Epoch 1/1\n",
      "8100/8100 [==============================] - ETA: 0s - loss: 0.4630 - accuracy: 0.79 - 13s 2ms/step - loss: 0.4631 - accuracy: 0.7970\n",
      "Epoch 1/1\n",
      "8100/8100 [==============================] - 13s 2ms/step - loss: 0.4739 - accuracy: 0.7983\n",
      "Epoch 1/1\n",
      "8100/8100 [==============================] - 13s 2ms/step - loss: 0.4735 - accuracy: 0.7956\n",
      "Epoch 1/1\n",
      "8100/8100 [==============================] - 13s 2ms/step - loss: 0.4786 - accuracy: 0.7975\n",
      "Epoch 1/1\n",
      "8100/8100 [==============================] - 13s 2ms/step - loss: 0.4711 - accuracy: 0.7964\n",
      "Epoch 1/1\n",
      "8100/8100 [==============================] - 14s 2ms/step - loss: 0.4704 - accuracy: 0.7942\n",
      "Epoch 1/1\n",
      "8100/8100 [==============================] - 6s 719us/step - loss: 0.5383 - accuracy: 0.7964\n",
      "Epoch 1/1\n",
      "8100/8100 [==============================] - 6s 698us/step - loss: 0.5115 - accuracy: 0.7969\n",
      "Epoch 1/1\n",
      "8100/8100 [==============================] - 6s 717us/step - loss: 0.5238 - accuracy: 0.7943\n",
      "Epoch 1/1\n",
      "8100/8100 [==============================] - 6s 708us/step - loss: 0.5250 - accuracy: 0.7959\n",
      "Epoch 1/1\n",
      "8100/8100 [==============================] - 6s 695us/step - loss: 0.5256 - accuracy: 0.7967\n",
      "Epoch 1/1\n",
      "8100/8100 [==============================] - 6s 727us/step - loss: 0.5247 - accuracy: 0.7983\n",
      "Epoch 1/1\n",
      "8100/8100 [==============================] - 4s 548us/step - loss: 0.5268 - accuracy: 0.7959\n",
      "Epoch 1/1\n",
      "8100/8100 [==============================] - 4s 509us/step - loss: 0.5153 - accuracy: 0.7946\n",
      "Epoch 1/1\n",
      "8100/8100 [==============================] - 4s 492us/step - loss: 0.5350 - accuracy: 0.7956\n",
      "Epoch 1/1\n",
      "8100/8100 [==============================] - 4s 522us/step - loss: 0.5396 - accuracy: 0.7943\n",
      "Epoch 1/1\n",
      "8100/8100 [==============================] - 4s 463us/step - loss: 0.5479 - accuracy: 0.7959\n",
      "Epoch 1/1\n",
      "8100/8100 [==============================] - 4s 473us/step - loss: 0.5481 - accuracy: 0.7968\n",
      "Epoch 1/1\n",
      "8100/8100 [==============================] - 4s 480us/step - loss: 0.5383 - accuracy: 0.7944\n",
      "Epoch 1/1\n",
      "8100/8100 [==============================] - 4s 498us/step - loss: 0.5334 - accuracy: 0.7962\n",
      "Epoch 1/1\n",
      "8100/8100 [==============================] - 4s 480us/step - loss: 0.5609 - accuracy: 0.7972\n",
      "Epoch 1/1\n",
      "8100/8100 [==============================] - 4s 488us/step - loss: 0.5666 - accuracy: 0.7974\n",
      "Epoch 1/1\n",
      "8100/8100 [==============================] - 4s 486us/step - loss: 0.5514 - accuracy: 0.7949\n",
      "Epoch 1/1\n",
      "8100/8100 [==============================] - 4s 484us/step - loss: 0.5530 - accuracy: 0.7946\n",
      "Epoch 1/1\n",
      "8100/8100 [==============================] - 4s 483us/step - loss: 0.5639 - accuracy: 0.7952\n",
      "Epoch 1/1\n",
      "8100/8100 [==============================] - 4s 475us/step - loss: 0.5421 - accuracy: 0.7937\n",
      "Epoch 1/1\n",
      "8100/8100 [==============================] - 4s 528us/step - loss: 0.5214 - accuracy: 0.7956\n",
      "Epoch 1/1\n",
      "8100/8100 [==============================] - 4s 555us/step - loss: 0.5318 - accuracy: 0.7962\n",
      "Epoch 1/1\n",
      "8100/8100 [==============================] - 4s 550us/step - loss: 0.5283 - accuracy: 0.7940\n",
      "Epoch 1/1\n",
      "8100/8100 [==============================] - 4s 546us/step - loss: 0.5491 - accuracy: 0.7958\n",
      "Epoch 1/1\n",
      "8100/8100 [==============================] - 4s 554us/step - loss: 0.5174 - accuracy: 0.7968\n",
      "Epoch 1/1\n",
      "8100/8100 [==============================] - 5s 611us/step - loss: 0.5336 - accuracy: 0.7973\n",
      "Epoch 1/1\n",
      "8100/8100 [==============================] - 5s 585us/step - loss: 0.6445 - accuracy: 0.7951\n",
      "Epoch 1/1\n",
      "8100/8100 [==============================] - 5s 580us/step - loss: 0.5331 - accuracy: 0.7938\n",
      "Epoch 1/1\n",
      "8100/8100 [==============================] - 5s 581us/step - loss: 0.5187 - accuracy: 0.7957\n",
      "Epoch 1/1\n",
      "8100/8100 [==============================] - 5s 578us/step - loss: 0.5280 - accuracy: 0.7941\n",
      "Epoch 1/1\n",
      "8100/8100 [==============================] - 4s 521us/step - loss: 0.5380 - accuracy: 0.7964\n",
      "Epoch 1/1\n",
      "8100/8100 [==============================] - 4s 506us/step - loss: 0.5277 - accuracy: 0.7969\n",
      "Epoch 1/1\n",
      "8100/8100 [==============================] - 4s 492us/step - loss: 0.5542 - accuracy: 0.7935\n",
      "Epoch 1/1\n",
      "8100/8100 [==============================] - 4s 495us/step - loss: 0.5443 - accuracy: 0.7963\n",
      "Epoch 1/1\n",
      "8100/8100 [==============================] - 4s 555us/step - loss: 0.5401 - accuracy: 0.7972\n",
      "Epoch 1/1\n",
      "8100/8100 [==============================] - 4s 489us/step - loss: 0.5351 - accuracy: 0.7989\n",
      "Epoch 1/1\n",
      "8100/8100 [==============================] - 4s 488us/step - loss: 0.5575 - accuracy: 0.7937\n",
      "Epoch 1/1\n",
      "8100/8100 [==============================] - 5s 574us/step - loss: 0.5364 - accuracy: 0.7943\n",
      "Epoch 1/1\n",
      "8100/8100 [==============================] - 4s 507us/step - loss: 0.5438 - accuracy: 0.7965\n",
      "Epoch 1/1\n"
     ]
    },
    {
     "name": "stdout",
     "output_type": "stream",
     "text": [
      "8100/8100 [==============================] - 4s 485us/step - loss: 0.5250 - accuracy: 0.7943\n",
      "Epoch 1/1\n",
      "9000/9000 [==============================] - 13s 1ms/step - loss: 0.4584 - accuracy: 0.7958\n"
     ]
    }
   ],
   "source": [
    "gs = gs_model.fit(X_train, y_train)"
   ]
  },
  {
   "cell_type": "code",
   "execution_count": 58,
   "metadata": {},
   "outputs": [
    {
     "data": {
      "text/plain": [
       "0.8001111111111111"
      ]
     },
     "execution_count": 58,
     "metadata": {},
     "output_type": "execute_result"
    }
   ],
   "source": [
    "gs.best_params_\n",
    "gs.best_score_"
   ]
  },
  {
   "cell_type": "code",
   "execution_count": null,
   "metadata": {},
   "outputs": [],
   "source": []
  }
 ],
 "metadata": {
  "kernelspec": {
   "display_name": "Python 3",
   "language": "python",
   "name": "python3"
  },
  "language_info": {
   "codemirror_mode": {
    "name": "ipython",
    "version": 3
   },
   "file_extension": ".py",
   "mimetype": "text/x-python",
   "name": "python",
   "nbconvert_exporter": "python",
   "pygments_lexer": "ipython3",
   "version": "3.7.4"
  }
 },
 "nbformat": 4,
 "nbformat_minor": 2
}
