{
 "cells": [
  {
   "cell_type": "code",
   "execution_count": 1,
   "metadata": {},
   "outputs": [],
   "source": [
    "import numpy as np\n",
    "import matplotlib.pyplot as plt\n",
    "import pandas as pd\n",
    "from sklearn.preprocessing import MinMaxScaler"
   ]
  },
  {
   "cell_type": "code",
   "execution_count": 2,
   "metadata": {},
   "outputs": [],
   "source": [
    "import os\n",
    "os.chdir('C:\\\\Users\\\\breje\\\\OneDrive\\\\Desktop\\\\ML Dataset\\\\Deep Learning - Jose Portilla\\\\TF_2_Notebooks_and_Data\\\\05-RNNs')"
   ]
  },
  {
   "cell_type": "code",
   "execution_count": 3,
   "metadata": {},
   "outputs": [],
   "source": [
    "data = pd.read_csv('google.csv')"
   ]
  },
  {
   "cell_type": "code",
   "execution_count": 4,
   "metadata": {},
   "outputs": [
    {
     "data": {
      "text/html": [
       "<div>\n",
       "<style scoped>\n",
       "    .dataframe tbody tr th:only-of-type {\n",
       "        vertical-align: middle;\n",
       "    }\n",
       "\n",
       "    .dataframe tbody tr th {\n",
       "        vertical-align: top;\n",
       "    }\n",
       "\n",
       "    .dataframe thead th {\n",
       "        text-align: right;\n",
       "    }\n",
       "</style>\n",
       "<table border=\"1\" class=\"dataframe\">\n",
       "  <thead>\n",
       "    <tr style=\"text-align: right;\">\n",
       "      <th></th>\n",
       "      <th>Date</th>\n",
       "      <th>Open</th>\n",
       "      <th>High</th>\n",
       "      <th>Low</th>\n",
       "      <th>Close</th>\n",
       "      <th>Adj Close</th>\n",
       "      <th>Volume</th>\n",
       "    </tr>\n",
       "  </thead>\n",
       "  <tbody>\n",
       "    <tr>\n",
       "      <td>0</td>\n",
       "      <td>8/19/2004</td>\n",
       "      <td>49.813286</td>\n",
       "      <td>51.835709</td>\n",
       "      <td>47.800831</td>\n",
       "      <td>49.982655</td>\n",
       "      <td>49.982655</td>\n",
       "      <td>44871300</td>\n",
       "    </tr>\n",
       "    <tr>\n",
       "      <td>1</td>\n",
       "      <td>8/20/2004</td>\n",
       "      <td>50.316402</td>\n",
       "      <td>54.336334</td>\n",
       "      <td>50.062355</td>\n",
       "      <td>53.952770</td>\n",
       "      <td>53.952770</td>\n",
       "      <td>22942800</td>\n",
       "    </tr>\n",
       "    <tr>\n",
       "      <td>2</td>\n",
       "      <td>8/23/2004</td>\n",
       "      <td>55.168217</td>\n",
       "      <td>56.528118</td>\n",
       "      <td>54.321388</td>\n",
       "      <td>54.495735</td>\n",
       "      <td>54.495735</td>\n",
       "      <td>18342800</td>\n",
       "    </tr>\n",
       "    <tr>\n",
       "      <td>3</td>\n",
       "      <td>8/24/2004</td>\n",
       "      <td>55.412300</td>\n",
       "      <td>55.591629</td>\n",
       "      <td>51.591621</td>\n",
       "      <td>52.239193</td>\n",
       "      <td>52.239193</td>\n",
       "      <td>15319700</td>\n",
       "    </tr>\n",
       "    <tr>\n",
       "      <td>4</td>\n",
       "      <td>8/25/2004</td>\n",
       "      <td>52.284027</td>\n",
       "      <td>53.798351</td>\n",
       "      <td>51.746044</td>\n",
       "      <td>52.802086</td>\n",
       "      <td>52.802086</td>\n",
       "      <td>9232100</td>\n",
       "    </tr>\n",
       "  </tbody>\n",
       "</table>\n",
       "</div>"
      ],
      "text/plain": [
       "        Date       Open       High        Low      Close  Adj Close    Volume\n",
       "0  8/19/2004  49.813286  51.835709  47.800831  49.982655  49.982655  44871300\n",
       "1  8/20/2004  50.316402  54.336334  50.062355  53.952770  53.952770  22942800\n",
       "2  8/23/2004  55.168217  56.528118  54.321388  54.495735  54.495735  18342800\n",
       "3  8/24/2004  55.412300  55.591629  51.591621  52.239193  52.239193  15319700\n",
       "4  8/25/2004  52.284027  53.798351  51.746044  52.802086  52.802086   9232100"
      ]
     },
     "execution_count": 4,
     "metadata": {},
     "output_type": "execute_result"
    }
   ],
   "source": [
    "data.head()"
   ]
  },
  {
   "cell_type": "code",
   "execution_count": 5,
   "metadata": {},
   "outputs": [
    {
     "data": {
      "text/plain": [
       "(3809, 7)"
      ]
     },
     "execution_count": 5,
     "metadata": {},
     "output_type": "execute_result"
    }
   ],
   "source": [
    "data.shape"
   ]
  },
  {
   "cell_type": "code",
   "execution_count": 6,
   "metadata": {},
   "outputs": [
    {
     "name": "stdout",
     "output_type": "stream",
     "text": [
      "<class 'pandas.core.frame.DataFrame'>\n",
      "RangeIndex: 3809 entries, 0 to 3808\n",
      "Data columns (total 7 columns):\n",
      "Date         3809 non-null object\n",
      "Open         3809 non-null float64\n",
      "High         3809 non-null float64\n",
      "Low          3809 non-null float64\n",
      "Close        3809 non-null float64\n",
      "Adj Close    3809 non-null float64\n",
      "Volume       3809 non-null int64\n",
      "dtypes: float64(5), int64(1), object(1)\n",
      "memory usage: 208.4+ KB\n"
     ]
    }
   ],
   "source": [
    "data.info()"
   ]
  },
  {
   "cell_type": "code",
   "execution_count": 7,
   "metadata": {},
   "outputs": [],
   "source": [
    "data['Date'] = pd.to_datetime(data['Date'])"
   ]
  },
  {
   "cell_type": "code",
   "execution_count": 8,
   "metadata": {},
   "outputs": [
    {
     "name": "stdout",
     "output_type": "stream",
     "text": [
      "<class 'pandas.core.frame.DataFrame'>\n",
      "RangeIndex: 3809 entries, 0 to 3808\n",
      "Data columns (total 7 columns):\n",
      "Date         3809 non-null datetime64[ns]\n",
      "Open         3809 non-null float64\n",
      "High         3809 non-null float64\n",
      "Low          3809 non-null float64\n",
      "Close        3809 non-null float64\n",
      "Adj Close    3809 non-null float64\n",
      "Volume       3809 non-null int64\n",
      "dtypes: datetime64[ns](1), float64(5), int64(1)\n",
      "memory usage: 208.4 KB\n"
     ]
    }
   ],
   "source": [
    "data.info()"
   ]
  },
  {
   "cell_type": "code",
   "execution_count": 9,
   "metadata": {},
   "outputs": [],
   "source": [
    "train_data = data[data['Date']<'01-01-2019']"
   ]
  },
  {
   "cell_type": "code",
   "execution_count": 10,
   "metadata": {},
   "outputs": [
    {
     "data": {
      "text/plain": [
       "(3617, 7)"
      ]
     },
     "execution_count": 10,
     "metadata": {},
     "output_type": "execute_result"
    }
   ],
   "source": [
    "train_data.shape"
   ]
  },
  {
   "cell_type": "code",
   "execution_count": 11,
   "metadata": {},
   "outputs": [
    {
     "data": {
      "text/html": [
       "<div>\n",
       "<style scoped>\n",
       "    .dataframe tbody tr th:only-of-type {\n",
       "        vertical-align: middle;\n",
       "    }\n",
       "\n",
       "    .dataframe tbody tr th {\n",
       "        vertical-align: top;\n",
       "    }\n",
       "\n",
       "    .dataframe thead th {\n",
       "        text-align: right;\n",
       "    }\n",
       "</style>\n",
       "<table border=\"1\" class=\"dataframe\">\n",
       "  <thead>\n",
       "    <tr style=\"text-align: right;\">\n",
       "      <th></th>\n",
       "      <th>Date</th>\n",
       "      <th>Open</th>\n",
       "      <th>High</th>\n",
       "      <th>Low</th>\n",
       "      <th>Close</th>\n",
       "      <th>Adj Close</th>\n",
       "      <th>Volume</th>\n",
       "    </tr>\n",
       "  </thead>\n",
       "  <tbody>\n",
       "    <tr>\n",
       "      <td>3607</td>\n",
       "      <td>2018-12-17</td>\n",
       "      <td>1037.510010</td>\n",
       "      <td>1053.150024</td>\n",
       "      <td>1007.900024</td>\n",
       "      <td>1016.530029</td>\n",
       "      <td>1016.530029</td>\n",
       "      <td>2385400</td>\n",
       "    </tr>\n",
       "    <tr>\n",
       "      <td>3608</td>\n",
       "      <td>2018-12-18</td>\n",
       "      <td>1026.089966</td>\n",
       "      <td>1049.479980</td>\n",
       "      <td>1021.440002</td>\n",
       "      <td>1028.709961</td>\n",
       "      <td>1028.709961</td>\n",
       "      <td>2192500</td>\n",
       "    </tr>\n",
       "    <tr>\n",
       "      <td>3609</td>\n",
       "      <td>2018-12-19</td>\n",
       "      <td>1033.989990</td>\n",
       "      <td>1062.000000</td>\n",
       "      <td>1008.049988</td>\n",
       "      <td>1023.010010</td>\n",
       "      <td>1023.010010</td>\n",
       "      <td>2479300</td>\n",
       "    </tr>\n",
       "    <tr>\n",
       "      <td>3610</td>\n",
       "      <td>2018-12-20</td>\n",
       "      <td>1018.130005</td>\n",
       "      <td>1034.219971</td>\n",
       "      <td>996.359985</td>\n",
       "      <td>1009.409973</td>\n",
       "      <td>1009.409973</td>\n",
       "      <td>2673500</td>\n",
       "    </tr>\n",
       "    <tr>\n",
       "      <td>3611</td>\n",
       "      <td>2018-12-21</td>\n",
       "      <td>1015.299988</td>\n",
       "      <td>1024.020020</td>\n",
       "      <td>973.690002</td>\n",
       "      <td>979.539978</td>\n",
       "      <td>979.539978</td>\n",
       "      <td>4596000</td>\n",
       "    </tr>\n",
       "    <tr>\n",
       "      <td>3612</td>\n",
       "      <td>2018-12-24</td>\n",
       "      <td>973.900024</td>\n",
       "      <td>1003.539978</td>\n",
       "      <td>970.109985</td>\n",
       "      <td>976.219971</td>\n",
       "      <td>976.219971</td>\n",
       "      <td>1590300</td>\n",
       "    </tr>\n",
       "    <tr>\n",
       "      <td>3613</td>\n",
       "      <td>2018-12-26</td>\n",
       "      <td>989.010010</td>\n",
       "      <td>1040.000000</td>\n",
       "      <td>983.000000</td>\n",
       "      <td>1039.459961</td>\n",
       "      <td>1039.459961</td>\n",
       "      <td>2373300</td>\n",
       "    </tr>\n",
       "    <tr>\n",
       "      <td>3614</td>\n",
       "      <td>2018-12-27</td>\n",
       "      <td>1017.150024</td>\n",
       "      <td>1043.890015</td>\n",
       "      <td>997.000000</td>\n",
       "      <td>1043.880005</td>\n",
       "      <td>1043.880005</td>\n",
       "      <td>2109800</td>\n",
       "    </tr>\n",
       "    <tr>\n",
       "      <td>3615</td>\n",
       "      <td>2018-12-28</td>\n",
       "      <td>1049.619995</td>\n",
       "      <td>1055.560059</td>\n",
       "      <td>1033.099976</td>\n",
       "      <td>1037.079956</td>\n",
       "      <td>1037.079956</td>\n",
       "      <td>1414800</td>\n",
       "    </tr>\n",
       "    <tr>\n",
       "      <td>3616</td>\n",
       "      <td>2018-12-31</td>\n",
       "      <td>1050.959961</td>\n",
       "      <td>1052.699951</td>\n",
       "      <td>1023.590027</td>\n",
       "      <td>1035.609985</td>\n",
       "      <td>1035.609985</td>\n",
       "      <td>1493300</td>\n",
       "    </tr>\n",
       "  </tbody>\n",
       "</table>\n",
       "</div>"
      ],
      "text/plain": [
       "           Date         Open         High          Low        Close  \\\n",
       "3607 2018-12-17  1037.510010  1053.150024  1007.900024  1016.530029   \n",
       "3608 2018-12-18  1026.089966  1049.479980  1021.440002  1028.709961   \n",
       "3609 2018-12-19  1033.989990  1062.000000  1008.049988  1023.010010   \n",
       "3610 2018-12-20  1018.130005  1034.219971   996.359985  1009.409973   \n",
       "3611 2018-12-21  1015.299988  1024.020020   973.690002   979.539978   \n",
       "3612 2018-12-24   973.900024  1003.539978   970.109985   976.219971   \n",
       "3613 2018-12-26   989.010010  1040.000000   983.000000  1039.459961   \n",
       "3614 2018-12-27  1017.150024  1043.890015   997.000000  1043.880005   \n",
       "3615 2018-12-28  1049.619995  1055.560059  1033.099976  1037.079956   \n",
       "3616 2018-12-31  1050.959961  1052.699951  1023.590027  1035.609985   \n",
       "\n",
       "        Adj Close   Volume  \n",
       "3607  1016.530029  2385400  \n",
       "3608  1028.709961  2192500  \n",
       "3609  1023.010010  2479300  \n",
       "3610  1009.409973  2673500  \n",
       "3611   979.539978  4596000  \n",
       "3612   976.219971  1590300  \n",
       "3613  1039.459961  2373300  \n",
       "3614  1043.880005  2109800  \n",
       "3615  1037.079956  1414800  \n",
       "3616  1035.609985  1493300  "
      ]
     },
     "execution_count": 11,
     "metadata": {},
     "output_type": "execute_result"
    }
   ],
   "source": [
    "train_data.tail(10)"
   ]
  },
  {
   "cell_type": "code",
   "execution_count": 12,
   "metadata": {},
   "outputs": [],
   "source": [
    "test_data = data[data['Date']>'12-31-2018']"
   ]
  },
  {
   "cell_type": "code",
   "execution_count": 13,
   "metadata": {},
   "outputs": [
    {
     "data": {
      "text/plain": [
       "(192, 7)"
      ]
     },
     "execution_count": 13,
     "metadata": {},
     "output_type": "execute_result"
    }
   ],
   "source": [
    "test_data.shape"
   ]
  },
  {
   "cell_type": "code",
   "execution_count": 14,
   "metadata": {},
   "outputs": [
    {
     "data": {
      "text/html": [
       "<div>\n",
       "<style scoped>\n",
       "    .dataframe tbody tr th:only-of-type {\n",
       "        vertical-align: middle;\n",
       "    }\n",
       "\n",
       "    .dataframe tbody tr th {\n",
       "        vertical-align: top;\n",
       "    }\n",
       "\n",
       "    .dataframe thead th {\n",
       "        text-align: right;\n",
       "    }\n",
       "</style>\n",
       "<table border=\"1\" class=\"dataframe\">\n",
       "  <thead>\n",
       "    <tr style=\"text-align: right;\">\n",
       "      <th></th>\n",
       "      <th>Date</th>\n",
       "      <th>Open</th>\n",
       "      <th>High</th>\n",
       "      <th>Low</th>\n",
       "      <th>Close</th>\n",
       "      <th>Adj Close</th>\n",
       "      <th>Volume</th>\n",
       "    </tr>\n",
       "  </thead>\n",
       "  <tbody>\n",
       "    <tr>\n",
       "      <td>3617</td>\n",
       "      <td>2019-01-02</td>\n",
       "      <td>1016.570007</td>\n",
       "      <td>1052.319946</td>\n",
       "      <td>1015.710022</td>\n",
       "      <td>1045.849976</td>\n",
       "      <td>1045.849976</td>\n",
       "      <td>1532600</td>\n",
       "    </tr>\n",
       "    <tr>\n",
       "      <td>3618</td>\n",
       "      <td>2019-01-03</td>\n",
       "      <td>1041.000000</td>\n",
       "      <td>1056.979980</td>\n",
       "      <td>1014.070007</td>\n",
       "      <td>1016.059998</td>\n",
       "      <td>1016.059998</td>\n",
       "      <td>1841100</td>\n",
       "    </tr>\n",
       "    <tr>\n",
       "      <td>3619</td>\n",
       "      <td>2019-01-04</td>\n",
       "      <td>1032.589966</td>\n",
       "      <td>1070.839966</td>\n",
       "      <td>1027.417969</td>\n",
       "      <td>1070.709961</td>\n",
       "      <td>1070.709961</td>\n",
       "      <td>2093900</td>\n",
       "    </tr>\n",
       "    <tr>\n",
       "      <td>3620</td>\n",
       "      <td>2019-01-07</td>\n",
       "      <td>1071.500000</td>\n",
       "      <td>1074.000000</td>\n",
       "      <td>1054.760010</td>\n",
       "      <td>1068.390015</td>\n",
       "      <td>1068.390015</td>\n",
       "      <td>1981900</td>\n",
       "    </tr>\n",
       "    <tr>\n",
       "      <td>3621</td>\n",
       "      <td>2019-01-08</td>\n",
       "      <td>1076.109985</td>\n",
       "      <td>1084.560059</td>\n",
       "      <td>1060.530029</td>\n",
       "      <td>1076.280029</td>\n",
       "      <td>1076.280029</td>\n",
       "      <td>1764900</td>\n",
       "    </tr>\n",
       "    <tr>\n",
       "      <td>3622</td>\n",
       "      <td>2019-01-09</td>\n",
       "      <td>1081.650024</td>\n",
       "      <td>1082.630005</td>\n",
       "      <td>1066.400024</td>\n",
       "      <td>1074.660034</td>\n",
       "      <td>1074.660034</td>\n",
       "      <td>1199300</td>\n",
       "    </tr>\n",
       "    <tr>\n",
       "      <td>3623</td>\n",
       "      <td>2019-01-10</td>\n",
       "      <td>1067.660034</td>\n",
       "      <td>1071.150024</td>\n",
       "      <td>1057.709961</td>\n",
       "      <td>1070.329956</td>\n",
       "      <td>1070.329956</td>\n",
       "      <td>1456400</td>\n",
       "    </tr>\n",
       "    <tr>\n",
       "      <td>3624</td>\n",
       "      <td>2019-01-11</td>\n",
       "      <td>1063.180054</td>\n",
       "      <td>1063.775024</td>\n",
       "      <td>1048.479980</td>\n",
       "      <td>1057.189941</td>\n",
       "      <td>1057.189941</td>\n",
       "      <td>1520800</td>\n",
       "    </tr>\n",
       "    <tr>\n",
       "      <td>3625</td>\n",
       "      <td>2019-01-14</td>\n",
       "      <td>1046.920044</td>\n",
       "      <td>1051.530029</td>\n",
       "      <td>1041.255005</td>\n",
       "      <td>1044.689941</td>\n",
       "      <td>1044.689941</td>\n",
       "      <td>1144300</td>\n",
       "    </tr>\n",
       "    <tr>\n",
       "      <td>3626</td>\n",
       "      <td>2019-01-15</td>\n",
       "      <td>1050.170044</td>\n",
       "      <td>1080.050049</td>\n",
       "      <td>1047.339966</td>\n",
       "      <td>1077.150024</td>\n",
       "      <td>1077.150024</td>\n",
       "      <td>1463600</td>\n",
       "    </tr>\n",
       "  </tbody>\n",
       "</table>\n",
       "</div>"
      ],
      "text/plain": [
       "           Date         Open         High          Low        Close  \\\n",
       "3617 2019-01-02  1016.570007  1052.319946  1015.710022  1045.849976   \n",
       "3618 2019-01-03  1041.000000  1056.979980  1014.070007  1016.059998   \n",
       "3619 2019-01-04  1032.589966  1070.839966  1027.417969  1070.709961   \n",
       "3620 2019-01-07  1071.500000  1074.000000  1054.760010  1068.390015   \n",
       "3621 2019-01-08  1076.109985  1084.560059  1060.530029  1076.280029   \n",
       "3622 2019-01-09  1081.650024  1082.630005  1066.400024  1074.660034   \n",
       "3623 2019-01-10  1067.660034  1071.150024  1057.709961  1070.329956   \n",
       "3624 2019-01-11  1063.180054  1063.775024  1048.479980  1057.189941   \n",
       "3625 2019-01-14  1046.920044  1051.530029  1041.255005  1044.689941   \n",
       "3626 2019-01-15  1050.170044  1080.050049  1047.339966  1077.150024   \n",
       "\n",
       "        Adj Close   Volume  \n",
       "3617  1045.849976  1532600  \n",
       "3618  1016.059998  1841100  \n",
       "3619  1070.709961  2093900  \n",
       "3620  1068.390015  1981900  \n",
       "3621  1076.280029  1764900  \n",
       "3622  1074.660034  1199300  \n",
       "3623  1070.329956  1456400  \n",
       "3624  1057.189941  1520800  \n",
       "3625  1044.689941  1144300  \n",
       "3626  1077.150024  1463600  "
      ]
     },
     "execution_count": 14,
     "metadata": {},
     "output_type": "execute_result"
    }
   ],
   "source": [
    "test_data.head(10)"
   ]
  },
  {
   "cell_type": "code",
   "execution_count": 15,
   "metadata": {},
   "outputs": [
    {
     "name": "stderr",
     "output_type": "stream",
     "text": [
      "C:\\Users\\breje\\AppData\\Local\\Continuum\\anaconda3\\lib\\site-packages\\pandas\\core\\frame.py:4102: SettingWithCopyWarning: \n",
      "A value is trying to be set on a copy of a slice from a DataFrame\n",
      "\n",
      "See the caveats in the documentation: http://pandas.pydata.org/pandas-docs/stable/user_guide/indexing.html#returning-a-view-versus-a-copy\n",
      "  errors=errors,\n"
     ]
    }
   ],
   "source": [
    "train_data.drop(['Date','Adj Close'], axis=1, inplace=True)"
   ]
  },
  {
   "cell_type": "code",
   "execution_count": 16,
   "metadata": {},
   "outputs": [
    {
     "data": {
      "text/html": [
       "<div>\n",
       "<style scoped>\n",
       "    .dataframe tbody tr th:only-of-type {\n",
       "        vertical-align: middle;\n",
       "    }\n",
       "\n",
       "    .dataframe tbody tr th {\n",
       "        vertical-align: top;\n",
       "    }\n",
       "\n",
       "    .dataframe thead th {\n",
       "        text-align: right;\n",
       "    }\n",
       "</style>\n",
       "<table border=\"1\" class=\"dataframe\">\n",
       "  <thead>\n",
       "    <tr style=\"text-align: right;\">\n",
       "      <th></th>\n",
       "      <th>Open</th>\n",
       "      <th>High</th>\n",
       "      <th>Low</th>\n",
       "      <th>Close</th>\n",
       "      <th>Volume</th>\n",
       "    </tr>\n",
       "  </thead>\n",
       "  <tbody>\n",
       "    <tr>\n",
       "      <td>0</td>\n",
       "      <td>49.813286</td>\n",
       "      <td>51.835709</td>\n",
       "      <td>47.800831</td>\n",
       "      <td>49.982655</td>\n",
       "      <td>44871300</td>\n",
       "    </tr>\n",
       "    <tr>\n",
       "      <td>1</td>\n",
       "      <td>50.316402</td>\n",
       "      <td>54.336334</td>\n",
       "      <td>50.062355</td>\n",
       "      <td>53.952770</td>\n",
       "      <td>22942800</td>\n",
       "    </tr>\n",
       "    <tr>\n",
       "      <td>2</td>\n",
       "      <td>55.168217</td>\n",
       "      <td>56.528118</td>\n",
       "      <td>54.321388</td>\n",
       "      <td>54.495735</td>\n",
       "      <td>18342800</td>\n",
       "    </tr>\n",
       "    <tr>\n",
       "      <td>3</td>\n",
       "      <td>55.412300</td>\n",
       "      <td>55.591629</td>\n",
       "      <td>51.591621</td>\n",
       "      <td>52.239193</td>\n",
       "      <td>15319700</td>\n",
       "    </tr>\n",
       "    <tr>\n",
       "      <td>4</td>\n",
       "      <td>52.284027</td>\n",
       "      <td>53.798351</td>\n",
       "      <td>51.746044</td>\n",
       "      <td>52.802086</td>\n",
       "      <td>9232100</td>\n",
       "    </tr>\n",
       "    <tr>\n",
       "      <td>...</td>\n",
       "      <td>...</td>\n",
       "      <td>...</td>\n",
       "      <td>...</td>\n",
       "      <td>...</td>\n",
       "      <td>...</td>\n",
       "    </tr>\n",
       "    <tr>\n",
       "      <td>3612</td>\n",
       "      <td>973.900024</td>\n",
       "      <td>1003.539978</td>\n",
       "      <td>970.109985</td>\n",
       "      <td>976.219971</td>\n",
       "      <td>1590300</td>\n",
       "    </tr>\n",
       "    <tr>\n",
       "      <td>3613</td>\n",
       "      <td>989.010010</td>\n",
       "      <td>1040.000000</td>\n",
       "      <td>983.000000</td>\n",
       "      <td>1039.459961</td>\n",
       "      <td>2373300</td>\n",
       "    </tr>\n",
       "    <tr>\n",
       "      <td>3614</td>\n",
       "      <td>1017.150024</td>\n",
       "      <td>1043.890015</td>\n",
       "      <td>997.000000</td>\n",
       "      <td>1043.880005</td>\n",
       "      <td>2109800</td>\n",
       "    </tr>\n",
       "    <tr>\n",
       "      <td>3615</td>\n",
       "      <td>1049.619995</td>\n",
       "      <td>1055.560059</td>\n",
       "      <td>1033.099976</td>\n",
       "      <td>1037.079956</td>\n",
       "      <td>1414800</td>\n",
       "    </tr>\n",
       "    <tr>\n",
       "      <td>3616</td>\n",
       "      <td>1050.959961</td>\n",
       "      <td>1052.699951</td>\n",
       "      <td>1023.590027</td>\n",
       "      <td>1035.609985</td>\n",
       "      <td>1493300</td>\n",
       "    </tr>\n",
       "  </tbody>\n",
       "</table>\n",
       "<p>3617 rows × 5 columns</p>\n",
       "</div>"
      ],
      "text/plain": [
       "             Open         High          Low        Close    Volume\n",
       "0       49.813286    51.835709    47.800831    49.982655  44871300\n",
       "1       50.316402    54.336334    50.062355    53.952770  22942800\n",
       "2       55.168217    56.528118    54.321388    54.495735  18342800\n",
       "3       55.412300    55.591629    51.591621    52.239193  15319700\n",
       "4       52.284027    53.798351    51.746044    52.802086   9232100\n",
       "...           ...          ...          ...          ...       ...\n",
       "3612   973.900024  1003.539978   970.109985   976.219971   1590300\n",
       "3613   989.010010  1040.000000   983.000000  1039.459961   2373300\n",
       "3614  1017.150024  1043.890015   997.000000  1043.880005   2109800\n",
       "3615  1049.619995  1055.560059  1033.099976  1037.079956   1414800\n",
       "3616  1050.959961  1052.699951  1023.590027  1035.609985   1493300\n",
       "\n",
       "[3617 rows x 5 columns]"
      ]
     },
     "execution_count": 16,
     "metadata": {},
     "output_type": "execute_result"
    }
   ],
   "source": [
    "train_data"
   ]
  },
  {
   "cell_type": "code",
   "execution_count": 17,
   "metadata": {},
   "outputs": [],
   "source": [
    "test_data.drop(['Date','Adj Close'], axis=1, inplace=True)"
   ]
  },
  {
   "cell_type": "code",
   "execution_count": 18,
   "metadata": {},
   "outputs": [
    {
     "data": {
      "text/html": [
       "<div>\n",
       "<style scoped>\n",
       "    .dataframe tbody tr th:only-of-type {\n",
       "        vertical-align: middle;\n",
       "    }\n",
       "\n",
       "    .dataframe tbody tr th {\n",
       "        vertical-align: top;\n",
       "    }\n",
       "\n",
       "    .dataframe thead th {\n",
       "        text-align: right;\n",
       "    }\n",
       "</style>\n",
       "<table border=\"1\" class=\"dataframe\">\n",
       "  <thead>\n",
       "    <tr style=\"text-align: right;\">\n",
       "      <th></th>\n",
       "      <th>Open</th>\n",
       "      <th>High</th>\n",
       "      <th>Low</th>\n",
       "      <th>Close</th>\n",
       "      <th>Volume</th>\n",
       "    </tr>\n",
       "  </thead>\n",
       "  <tbody>\n",
       "    <tr>\n",
       "      <td>3617</td>\n",
       "      <td>1016.570007</td>\n",
       "      <td>1052.319946</td>\n",
       "      <td>1015.710022</td>\n",
       "      <td>1045.849976</td>\n",
       "      <td>1532600</td>\n",
       "    </tr>\n",
       "    <tr>\n",
       "      <td>3618</td>\n",
       "      <td>1041.000000</td>\n",
       "      <td>1056.979980</td>\n",
       "      <td>1014.070007</td>\n",
       "      <td>1016.059998</td>\n",
       "      <td>1841100</td>\n",
       "    </tr>\n",
       "    <tr>\n",
       "      <td>3619</td>\n",
       "      <td>1032.589966</td>\n",
       "      <td>1070.839966</td>\n",
       "      <td>1027.417969</td>\n",
       "      <td>1070.709961</td>\n",
       "      <td>2093900</td>\n",
       "    </tr>\n",
       "    <tr>\n",
       "      <td>3620</td>\n",
       "      <td>1071.500000</td>\n",
       "      <td>1074.000000</td>\n",
       "      <td>1054.760010</td>\n",
       "      <td>1068.390015</td>\n",
       "      <td>1981900</td>\n",
       "    </tr>\n",
       "    <tr>\n",
       "      <td>3621</td>\n",
       "      <td>1076.109985</td>\n",
       "      <td>1084.560059</td>\n",
       "      <td>1060.530029</td>\n",
       "      <td>1076.280029</td>\n",
       "      <td>1764900</td>\n",
       "    </tr>\n",
       "    <tr>\n",
       "      <td>...</td>\n",
       "      <td>...</td>\n",
       "      <td>...</td>\n",
       "      <td>...</td>\n",
       "      <td>...</td>\n",
       "      <td>...</td>\n",
       "    </tr>\n",
       "    <tr>\n",
       "      <td>3804</td>\n",
       "      <td>1220.969971</td>\n",
       "      <td>1226.000000</td>\n",
       "      <td>1212.300049</td>\n",
       "      <td>1219.000000</td>\n",
       "      <td>1404100</td>\n",
       "    </tr>\n",
       "    <tr>\n",
       "      <td>3805</td>\n",
       "      <td>1219.000000</td>\n",
       "      <td>1231.229980</td>\n",
       "      <td>1203.579956</td>\n",
       "      <td>1205.099976</td>\n",
       "      <td>1273500</td>\n",
       "    </tr>\n",
       "    <tr>\n",
       "      <td>3806</td>\n",
       "      <td>1196.979980</td>\n",
       "      <td>1196.979980</td>\n",
       "      <td>1171.290039</td>\n",
       "      <td>1176.630005</td>\n",
       "      <td>1615100</td>\n",
       "    </tr>\n",
       "    <tr>\n",
       "      <td>3807</td>\n",
       "      <td>1180.000000</td>\n",
       "      <td>1189.060059</td>\n",
       "      <td>1162.430054</td>\n",
       "      <td>1187.829956</td>\n",
       "      <td>1621200</td>\n",
       "    </tr>\n",
       "    <tr>\n",
       "      <td>3808</td>\n",
       "      <td>1191.890015</td>\n",
       "      <td>1211.439941</td>\n",
       "      <td>1189.170044</td>\n",
       "      <td>1209.000000</td>\n",
       "      <td>1021092</td>\n",
       "    </tr>\n",
       "  </tbody>\n",
       "</table>\n",
       "<p>192 rows × 5 columns</p>\n",
       "</div>"
      ],
      "text/plain": [
       "             Open         High          Low        Close   Volume\n",
       "3617  1016.570007  1052.319946  1015.710022  1045.849976  1532600\n",
       "3618  1041.000000  1056.979980  1014.070007  1016.059998  1841100\n",
       "3619  1032.589966  1070.839966  1027.417969  1070.709961  2093900\n",
       "3620  1071.500000  1074.000000  1054.760010  1068.390015  1981900\n",
       "3621  1076.109985  1084.560059  1060.530029  1076.280029  1764900\n",
       "...           ...          ...          ...          ...      ...\n",
       "3804  1220.969971  1226.000000  1212.300049  1219.000000  1404100\n",
       "3805  1219.000000  1231.229980  1203.579956  1205.099976  1273500\n",
       "3806  1196.979980  1196.979980  1171.290039  1176.630005  1615100\n",
       "3807  1180.000000  1189.060059  1162.430054  1187.829956  1621200\n",
       "3808  1191.890015  1211.439941  1189.170044  1209.000000  1021092\n",
       "\n",
       "[192 rows x 5 columns]"
      ]
     },
     "execution_count": 18,
     "metadata": {},
     "output_type": "execute_result"
    }
   ],
   "source": [
    "test_data"
   ]
  },
  {
   "cell_type": "code",
   "execution_count": 19,
   "metadata": {},
   "outputs": [],
   "source": [
    "scale = MinMaxScaler()"
   ]
  },
  {
   "cell_type": "code",
   "execution_count": 20,
   "metadata": {},
   "outputs": [],
   "source": [
    "train_data = scale.fit_transform(train_data)"
   ]
  },
  {
   "cell_type": "code",
   "execution_count": 21,
   "metadata": {},
   "outputs": [],
   "source": [
    "test_data = scale.transform(test_data)"
   ]
  },
  {
   "cell_type": "code",
   "execution_count": 22,
   "metadata": {},
   "outputs": [],
   "source": [
    "X_train = []\n",
    "y_train = []\n",
    "for i in range(120, train_data.shape[0]):\n",
    "    X_train.append(train_data[i-120:i])\n",
    "    y_train.append(train_data[i,0])"
   ]
  },
  {
   "cell_type": "code",
   "execution_count": 23,
   "metadata": {},
   "outputs": [],
   "source": [
    "X_train = np.array(X_train)\n",
    "y_train = np.array(y_train)"
   ]
  },
  {
   "cell_type": "code",
   "execution_count": 24,
   "metadata": {},
   "outputs": [
    {
     "data": {
      "text/plain": [
       "((3497, 120, 5), (3497,))"
      ]
     },
     "execution_count": 24,
     "metadata": {},
     "output_type": "execute_result"
    }
   ],
   "source": [
    "X_train.shape, y_train.shape"
   ]
  },
  {
   "cell_type": "code",
   "execution_count": 25,
   "metadata": {},
   "outputs": [
    {
     "name": "stderr",
     "output_type": "stream",
     "text": [
      "Using TensorFlow backend.\n"
     ]
    }
   ],
   "source": [
    "from keras.models import Sequential\n",
    "from keras.layers import LSTM, Dense, Dropout"
   ]
  },
  {
   "cell_type": "code",
   "execution_count": 26,
   "metadata": {},
   "outputs": [],
   "source": [
    "model = Sequential()"
   ]
  },
  {
   "cell_type": "code",
   "execution_count": 27,
   "metadata": {},
   "outputs": [],
   "source": [
    "model.add(LSTM(120, return_sequences=True, input_shape=(120, X_train.shape[2])))\n",
    "model.add(Dropout(0.2))\n",
    "model.add(LSTM(120, return_sequences=True))\n",
    "model.add(Dropout(0.2))\n",
    "model.add(LSTM(120, return_sequences=True))\n",
    "model.add(Dropout(0.2))\n",
    "model.add(LSTM(120, return_sequences=False))\n",
    "model.add(Dropout(0.2))\n",
    "model.add(Dense(units=1))"
   ]
  },
  {
   "cell_type": "code",
   "execution_count": 28,
   "metadata": {},
   "outputs": [],
   "source": [
    "model.compile(optimizer='adam', loss='mean_squared_error')"
   ]
  },
  {
   "cell_type": "code",
   "execution_count": 29,
   "metadata": {},
   "outputs": [
    {
     "name": "stdout",
     "output_type": "stream",
     "text": [
      "Epoch 1/20\n",
      "3497/3497 [==============================] - 90s 26ms/step - loss: 0.0184\n",
      "Epoch 2/20\n",
      "3497/3497 [==============================] - 79s 22ms/step - loss: 0.0023\n",
      "Epoch 3/20\n",
      "3497/3497 [==============================] - 79s 23ms/step - loss: 0.0013\n",
      "Epoch 4/20\n",
      "3497/3497 [==============================] - 80s 23ms/step - loss: 0.0012\n",
      "Epoch 5/20\n",
      "3497/3497 [==============================] - 80s 23ms/step - loss: 0.0011\n",
      "Epoch 6/20\n",
      "3497/3497 [==============================] - 80s 23ms/step - loss: 0.0011\n",
      "Epoch 7/20\n",
      "3497/3497 [==============================] - 80s 23ms/step - loss: 0.0010\n",
      "Epoch 8/20\n",
      "3497/3497 [==============================] - 81s 23ms/step - loss: 0.0010\n",
      "Epoch 9/20\n",
      "3497/3497 [==============================] - 81s 23ms/step - loss: 9.8130e-04\n",
      "Epoch 10/20\n",
      "3497/3497 [==============================] - 82s 24ms/step - loss: 9.8770e-04\n",
      "Epoch 11/20\n",
      "3497/3497 [==============================] - 90s 26ms/step - loss: 9.8314e-04\n",
      "Epoch 12/20\n",
      "3497/3497 [==============================] - 83s 24ms/step - loss: 0.0011\n",
      "Epoch 13/20\n",
      "3497/3497 [==============================] - 90s 26ms/step - loss: 9.5452e-04\n",
      "Epoch 14/20\n",
      "3497/3497 [==============================] - 104s 30ms/step - loss: 9.0266e-04\n",
      "Epoch 15/20\n",
      "3497/3497 [==============================] - 97s 28ms/step - loss: 8.7989e-04\n",
      "Epoch 16/20\n",
      "3497/3497 [==============================] - 102s 29ms/step - loss: 8.1834e-04\n",
      "Epoch 17/20\n",
      "3497/3497 [==============================] - 100s 28ms/step - loss: 8.9195e-04\n",
      "Epoch 18/20\n",
      "3497/3497 [==============================] - 88s 25ms/step - loss: 8.2997e-04\n",
      "Epoch 19/20\n",
      "3497/3497 [==============================] - 88s 25ms/step - loss: 8.8696e-04\n",
      "Epoch 20/20\n",
      "3497/3497 [==============================] - 90s 26ms/step - loss: 9.8450e-04\n"
     ]
    },
    {
     "data": {
      "text/plain": [
       "<keras.callbacks.callbacks.History at 0x1e4f82bbd88>"
      ]
     },
     "execution_count": 29,
     "metadata": {},
     "output_type": "execute_result"
    }
   ],
   "source": [
    "model.fit(X_train, y_train, epochs=20, batch_size=200)"
   ]
  },
  {
   "cell_type": "code",
   "execution_count": 30,
   "metadata": {},
   "outputs": [],
   "source": [
    "X_test = []\n",
    "y_test = []\n",
    "for i in range(120, test_data.shape[0]):\n",
    "    X_test.append(test_data[i-120:i])\n",
    "    y_test.append(test_data[i,0])"
   ]
  },
  {
   "cell_type": "code",
   "execution_count": 32,
   "metadata": {},
   "outputs": [],
   "source": [
    "X_test = np.array(X_test)\n",
    "y_test = np.array(y_test)"
   ]
  },
  {
   "cell_type": "code",
   "execution_count": 34,
   "metadata": {},
   "outputs": [],
   "source": [
    "y_pred = model.predict(X_test)"
   ]
  },
  {
   "cell_type": "code",
   "execution_count": 37,
   "metadata": {},
   "outputs": [],
   "source": [
    "from sklearn.metrics import mean_squared_error, accuracy_score"
   ]
  },
  {
   "cell_type": "code",
   "execution_count": 36,
   "metadata": {},
   "outputs": [
    {
     "data": {
      "text/plain": [
       "0.0005148891379950529"
      ]
     },
     "execution_count": 36,
     "metadata": {},
     "output_type": "execute_result"
    }
   ],
   "source": [
    "mean_squared_error(y_test, y_pred)"
   ]
  },
  {
   "cell_type": "code",
   "execution_count": 43,
   "metadata": {},
   "outputs": [
    {
     "data": {
      "text/plain": [
       "[<matplotlib.lines.Line2D at 0x1e5c7acf308>]"
      ]
     },
     "execution_count": 43,
     "metadata": {},
     "output_type": "execute_result"
    },
    {
     "data": {
      "image/png": "[encoded data removed]",
      "text/plain": [
       "<Figure size 1008x504 with 1 Axes>"
      ]
     },
     "metadata": {
      "needs_background": "light"
     },
     "output_type": "display_data"
    }
   ],
   "source": [
    "plt.figure(figsize=(14, 7))\n",
    "plt.plot(y_test)\n",
    "plt.plot(y_pred)"
   ]
  },
  {
   "cell_type": "code",
   "execution_count": null,
   "metadata": {},
   "outputs": [],
   "source": []
  }
 ],
 "metadata": {
  "kernelspec": {
   "display_name": "Python 3",
   "language": "python",
   "name": "python3"
  },
  "language_info": {
   "codemirror_mode": {
    "name": "ipython",
    "version": 3
   },
   "file_extension": ".py",
   "mimetype": "text/x-python",
   "name": "python",
   "nbconvert_exporter": "python",
   "pygments_lexer": "ipython3",
   "version": "3.7.4"
  }
 },
 "nbformat": 4,
 "nbformat_minor": 2
}
